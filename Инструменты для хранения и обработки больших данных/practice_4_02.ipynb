{
 "cells": [
  {
   "cell_type": "markdown",
   "metadata": {
    "id": "1VkXcRACpx5v"
   },
   "source": [
    "# **1.PANDAS**"
   ]
  },
  {
   "cell_type": "markdown",
   "metadata": {
    "id": "Xw-Wh8tD1OS7"
   },
   "source": [
    "**Введение**\n",
    "\n",
    "Для того чтобы эффективно работать с этой библиотекой, нужно понять основные структуры данных. \n",
    "**Series** – это структура данных принципиально похожая на список и словарь в Python. Используется в качестве столбцов в таблице.\n",
    "**DataFrame** – если говорить простыми словами, то эта структура данных представляет из себя обычную таблицу. Иными словами табличная структура данных. Как и во всех таблицах она состоит из строк и столбцов. Столбцами выступают объекты **Series**, а строки его элементы.\n"
   ]
  },
  {
   "cell_type": "code",
   "execution_count": 25,
   "metadata": {
    "id": "aKkc9R8foxAT"
   },
   "outputs": [],
   "source": [
    "import numpy as np\n",
    "\n"
   ]
  },
  {
   "cell_type": "markdown",
   "metadata": {
    "id": "kyRaIUte0md6"
   },
   "source": [
    "**Использование**\n",
    "\n",
    "Чтобы показать библиотеку в работе, нам нужны какие нибудь статистические данные, для примера давайте возьмем [данные ВВП](https://ru.wikipedia.org/wiki/%D0%A1%D0%BF%D0%B8%D1%81%D0%BE%D0%BA_%D1%81%D1%82%D1%80%D0%B0%D0%BD_%D0%BF%D0%BE_%D0%92%D0%92%D0%9F_(%D0%BD%D0%BE%D0%BC%D0%B8%D0%BD%D0%B0%D0%BB)) 5 разных стран по версии всемирного банка и попробуем сформировать из них таблицу. Передавать данных в DataFrame мы будем используя знакомый синтаксис словаря Python.\n"
   ]
  },
  {
   "cell_type": "code",
   "execution_count": 26,
   "metadata": {
    "colab": {
     "base_uri": "https://localhost:8080/",
     "height": 206
    },
    "id": "NEFyE2SRqcUy",
    "outputId": "e14096d0-855a-4f27-a1b9-8cdefdaf4fa3"
   },
   "outputs": [
    {
     "data": {
      "text/html": [
       "<div>\n",
       "<style scoped>\n",
       "    .dataframe tbody tr th:only-of-type {\n",
       "        vertical-align: middle;\n",
       "    }\n",
       "\n",
       "    .dataframe tbody tr th {\n",
       "        vertical-align: top;\n",
       "    }\n",
       "\n",
       "    .dataframe thead th {\n",
       "        text-align: right;\n",
       "    }\n",
       "</style>\n",
       "<table border=\"1\" class=\"dataframe\">\n",
       "  <thead>\n",
       "    <tr style=\"text-align: right;\">\n",
       "      <th></th>\n",
       "      <th>Страна</th>\n",
       "      <th>2018 год</th>\n",
       "      <th>2019 год</th>\n",
       "    </tr>\n",
       "  </thead>\n",
       "  <tbody>\n",
       "    <tr>\n",
       "      <th>0</th>\n",
       "      <td>США</td>\n",
       "      <td>20612</td>\n",
       "      <td>21433</td>\n",
       "    </tr>\n",
       "    <tr>\n",
       "      <th>1</th>\n",
       "      <td>Китай</td>\n",
       "      <td>13842</td>\n",
       "      <td>14402</td>\n",
       "    </tr>\n",
       "    <tr>\n",
       "      <th>2</th>\n",
       "      <td>Россия</td>\n",
       "      <td>1665</td>\n",
       "      <td>1702</td>\n",
       "    </tr>\n",
       "    <tr>\n",
       "      <th>3</th>\n",
       "      <td>Турция</td>\n",
       "      <td>780</td>\n",
       "      <td>761</td>\n",
       "    </tr>\n",
       "    <tr>\n",
       "      <th>4</th>\n",
       "      <td>ЮАР</td>\n",
       "      <td>368</td>\n",
       "      <td>351</td>\n",
       "    </tr>\n",
       "  </tbody>\n",
       "</table>\n",
       "</div>"
      ],
      "text/plain": [
       "   Страна  2018 год  2019 год\n",
       "0     США     20612     21433\n",
       "1   Китай     13842     14402\n",
       "2  Россия      1665      1702\n",
       "3  Турция       780       761\n",
       "4     ЮАР       368       351"
      ]
     },
     "execution_count": 26,
     "metadata": {},
     "output_type": "execute_result"
    }
   ],
   "source": [
    "import pandas as pd\n",
    "\n",
    "df = pd.DataFrame({\n",
    "    'Страна': ['США', 'Китай', 'Россия', 'Турция', 'ЮАР'],\n",
    "    '2018 год': [20612, 13842, 1665, 780, 368],\n",
    "    '2019 год': [21433, 14402, 1702, 761, 351],\n",
    "})\n",
    "\n",
    "df\n",
    "\n"
   ]
  },
  {
   "cell_type": "markdown",
   "metadata": {
    "id": "4Ot7U-f026FX"
   },
   "source": [
    "Объект **DataFrame** имеет два индекса по столбцам и строкам. Если индекс по строкам не указан вручную, то pandas задает его автоматически."
   ]
  },
  {
   "cell_type": "markdown",
   "metadata": {
    "id": "Nj-BDLpC2-U1"
   },
   "source": [
    "**Индексы**\n",
    "\n",
    "Назначать индексы объекту **DataFrame** можно при его создании или в процессе работы с ним.\n"
   ]
  },
  {
   "cell_type": "code",
   "execution_count": 27,
   "metadata": {
    "colab": {
     "base_uri": "https://localhost:8080/",
     "height": 206
    },
    "id": "LtxyhFuxqmFg",
    "outputId": "3a64b83e-9c1a-4b92-f602-54f238229426"
   },
   "outputs": [
    {
     "data": {
      "text/html": [
       "<div>\n",
       "<style scoped>\n",
       "    .dataframe tbody tr th:only-of-type {\n",
       "        vertical-align: middle;\n",
       "    }\n",
       "\n",
       "    .dataframe tbody tr th {\n",
       "        vertical-align: top;\n",
       "    }\n",
       "\n",
       "    .dataframe thead th {\n",
       "        text-align: right;\n",
       "    }\n",
       "</style>\n",
       "<table border=\"1\" class=\"dataframe\">\n",
       "  <thead>\n",
       "    <tr style=\"text-align: right;\">\n",
       "      <th></th>\n",
       "      <th>Страна</th>\n",
       "      <th>2018 год</th>\n",
       "      <th>2019 год</th>\n",
       "    </tr>\n",
       "  </thead>\n",
       "  <tbody>\n",
       "    <tr>\n",
       "      <th>US</th>\n",
       "      <td>США</td>\n",
       "      <td>20612</td>\n",
       "      <td>21433</td>\n",
       "    </tr>\n",
       "    <tr>\n",
       "      <th>CN</th>\n",
       "      <td>Китай</td>\n",
       "      <td>13842</td>\n",
       "      <td>14402</td>\n",
       "    </tr>\n",
       "    <tr>\n",
       "      <th>RU</th>\n",
       "      <td>Россия</td>\n",
       "      <td>1665</td>\n",
       "      <td>1702</td>\n",
       "    </tr>\n",
       "    <tr>\n",
       "      <th>TR</th>\n",
       "      <td>Турция</td>\n",
       "      <td>780</td>\n",
       "      <td>761</td>\n",
       "    </tr>\n",
       "    <tr>\n",
       "      <th>ZA</th>\n",
       "      <td>ЮАР</td>\n",
       "      <td>368</td>\n",
       "      <td>351</td>\n",
       "    </tr>\n",
       "  </tbody>\n",
       "</table>\n",
       "</div>"
      ],
      "text/plain": [
       "    Страна  2018 год  2019 год\n",
       "US     США     20612     21433\n",
       "CN   Китай     13842     14402\n",
       "RU  Россия      1665      1702\n",
       "TR  Турция       780       761\n",
       "ZA     ЮАР       368       351"
      ]
     },
     "execution_count": 27,
     "metadata": {},
     "output_type": "execute_result"
    }
   ],
   "source": [
    "import pandas as pd\n",
    "\n",
    "df = pd.DataFrame({\n",
    "    'Страна': ['США', 'Китай', 'Россия', 'Турция', 'ЮАР'],\n",
    "    '2018 год': [20612, 13842, 1665, 780, 368],\n",
    "    '2019 год': [21433, 14402, 1702, 761, 351],\n",
    "}, index=['US', 'CN', 'RU', 'TR', 'ZA']\n",
    "\n",
    ")\n",
    "\n",
    "df"
   ]
  },
  {
   "cell_type": "markdown",
   "metadata": {
    "id": "ezpLusS03-ld"
   },
   "source": [
    "Вызывая метод **DataFrame** мы передали ему аргумент **index** со списком именованных индексов."
   ]
  },
  {
   "cell_type": "markdown",
   "metadata": {
    "id": "1tWZhk-54IvM"
   },
   "source": [
    "# **Фильтрация данных**\n",
    "\n",
    "Pandas позволяет производить фильтрацию вывода по индексам и столбцам. Так же можно комбинировать индексы и колонки, использовать слайсы и логические выражения.\n",
    "\n"
   ]
  },
  {
   "cell_type": "markdown",
   "metadata": {
    "id": "m_VkDNNZ4PXP"
   },
   "source": [
    "**По столбцу**\n",
    "\n",
    "Обращение к столбцам в pandas реализовано стандартным образом, так как будто вы обращаетесь к ключу словаря, или же к методу объекта. В моем случае обращение как к методу объекта невозможно, я выбрал кириллическое название столбца, а работает только с латиницей "
   ]
  },
  {
   "cell_type": "code",
   "execution_count": 28,
   "metadata": {
    "colab": {
     "base_uri": "https://localhost:8080/"
    },
    "id": "c1L2GpBvqwiP",
    "outputId": "907b0732-4ad9-4fb6-d14e-6e8fa15448d6"
   },
   "outputs": [
    {
     "data": {
      "text/plain": [
       "US       США\n",
       "CN     Китай\n",
       "RU    Россия\n",
       "TR    Турция\n",
       "ZA       ЮАР\n",
       "Name: Страна, dtype: object"
      ]
     },
     "execution_count": 28,
     "metadata": {},
     "output_type": "execute_result"
    }
   ],
   "source": [
    "df[\"Страна\"]"
   ]
  },
  {
   "cell_type": "markdown",
   "metadata": {
    "id": "948Ddxb54fvf"
   },
   "source": [
    "**По строковому индексу**\n",
    "\n",
    "Для обращения к строковым индекса существуют два метода\n",
    "1.   **loc** – для доступа по именованному индексу\n",
    "2.   **iloc** – для доступа по числовому индексу"
   ]
  },
  {
   "cell_type": "code",
   "execution_count": 29,
   "metadata": {
    "colab": {
     "base_uri": "https://localhost:8080/"
    },
    "id": "PSzRumGFq0xn",
    "outputId": "53989b2a-29e5-4980-8bfd-7f70b5ba8a2d"
   },
   "outputs": [
    {
     "data": {
      "text/plain": [
       "Страна      Россия\n",
       "2018 год      1665\n",
       "2019 год      1702\n",
       "Name: RU, dtype: object"
      ]
     },
     "execution_count": 29,
     "metadata": {},
     "output_type": "execute_result"
    }
   ],
   "source": [
    "df.loc[\"RU\"]"
   ]
  },
  {
   "cell_type": "markdown",
   "metadata": {
    "id": "eovLBeYf40-U"
   },
   "source": [
    "Обращение к именованному индексу **RU**"
   ]
  },
  {
   "cell_type": "code",
   "execution_count": 30,
   "metadata": {
    "colab": {
     "base_uri": "https://localhost:8080/"
    },
    "id": "AdSpH9KNsq2j",
    "outputId": "4105ec7a-16f0-4483-e928-4d4e23ba59f9"
   },
   "outputs": [
    {
     "data": {
      "text/plain": [
       "Страна        США\n",
       "2018 год    20612\n",
       "2019 год    21433\n",
       "Name: US, dtype: object"
      ]
     },
     "execution_count": 30,
     "metadata": {},
     "output_type": "execute_result"
    }
   ],
   "source": [
    "df.iloc[0]"
   ]
  },
  {
   "cell_type": "markdown",
   "metadata": {
    "id": "_Vwt8aEZ4_oz"
   },
   "source": [
    "Обращение к числовому индексу"
   ]
  },
  {
   "cell_type": "markdown",
   "metadata": {
    "id": "srNiq0YY5Evv"
   },
   "source": [
    "**По срезами**\n",
    "\n",
    "Объект **DataFrame** поддерживает использование срезов.\n"
   ]
  },
  {
   "cell_type": "code",
   "execution_count": 31,
   "metadata": {
    "colab": {
     "base_uri": "https://localhost:8080/",
     "height": 0
    },
    "id": "lu-KhNm4sxGz",
    "outputId": "b823435a-d2ef-4a98-eafc-24b9d9b67d7a"
   },
   "outputs": [
    {
     "data": {
      "text/html": [
       "<div>\n",
       "<style scoped>\n",
       "    .dataframe tbody tr th:only-of-type {\n",
       "        vertical-align: middle;\n",
       "    }\n",
       "\n",
       "    .dataframe tbody tr th {\n",
       "        vertical-align: top;\n",
       "    }\n",
       "\n",
       "    .dataframe thead th {\n",
       "        text-align: right;\n",
       "    }\n",
       "</style>\n",
       "<table border=\"1\" class=\"dataframe\">\n",
       "  <thead>\n",
       "    <tr style=\"text-align: right;\">\n",
       "      <th></th>\n",
       "      <th>Страна</th>\n",
       "      <th>2018 год</th>\n",
       "      <th>2019 год</th>\n",
       "    </tr>\n",
       "  </thead>\n",
       "  <tbody>\n",
       "    <tr>\n",
       "      <th>RU</th>\n",
       "      <td>Россия</td>\n",
       "      <td>1665</td>\n",
       "      <td>1702</td>\n",
       "    </tr>\n",
       "    <tr>\n",
       "      <th>TR</th>\n",
       "      <td>Турция</td>\n",
       "      <td>780</td>\n",
       "      <td>761</td>\n",
       "    </tr>\n",
       "    <tr>\n",
       "      <th>ZA</th>\n",
       "      <td>ЮАР</td>\n",
       "      <td>368</td>\n",
       "      <td>351</td>\n",
       "    </tr>\n",
       "  </tbody>\n",
       "</table>\n",
       "</div>"
      ],
      "text/plain": [
       "    Страна  2018 год  2019 год\n",
       "RU  Россия      1665      1702\n",
       "TR  Турция       780       761\n",
       "ZA     ЮАР       368       351"
      ]
     },
     "execution_count": 31,
     "metadata": {},
     "output_type": "execute_result"
    }
   ],
   "source": [
    "df[2:]"
   ]
  },
  {
   "cell_type": "markdown",
   "metadata": {
    "id": "ytQOG6t-tH2I"
   },
   "source": [
    "Отобразим все строки начиная с 3."
   ]
  },
  {
   "cell_type": "markdown",
   "metadata": {
    "id": "UDRHGZLSuHdf"
   },
   "source": [
    "**С использованием условий**\n",
    "\n",
    "Мы так же можем использовать логику в фильтрации данных. Давайте отобразить странны, в которых ВВП на душу населения в 2019 году был больше 761$\n"
   ]
  },
  {
   "cell_type": "code",
   "execution_count": 32,
   "metadata": {
    "colab": {
     "base_uri": "https://localhost:8080/"
    },
    "id": "d-JGnLXCrGcz",
    "outputId": "3a6fa2c3-20a8-49b1-d9d5-16baf95e82a0"
   },
   "outputs": [
    {
     "data": {
      "text/plain": [
       "US       США\n",
       "CN     Китай\n",
       "RU    Россия\n",
       "Name: Страна, dtype: object"
      ]
     },
     "execution_count": 32,
     "metadata": {},
     "output_type": "execute_result"
    }
   ],
   "source": [
    "df[df[\"2019 год\"] > 761]['Страна']"
   ]
  },
  {
   "cell_type": "markdown",
   "metadata": {
    "id": "H4ICXJzFuMEp"
   },
   "source": [
    "# **Работа с столбцами**\n",
    "\n",
    "Вы можете создавать, удалять и переименовывать ваши столбцы в любой момент времени.\n"
   ]
  },
  {
   "cell_type": "markdown",
   "metadata": {
    "id": "FBFRlrfG51_M"
   },
   "source": [
    "**Переименование**\n",
    "\n",
    "Для переименования столбца существует метод rename\n",
    "Давайте переименуем наши столбцы с указанием года."
   ]
  },
  {
   "cell_type": "code",
   "execution_count": 33,
   "metadata": {
    "colab": {
     "base_uri": "https://localhost:8080/",
     "height": 0
    },
    "id": "QhVJ8iI_uNuy",
    "outputId": "b4f3a545-6aa9-4006-c142-66b6cd9a47b0"
   },
   "outputs": [
    {
     "data": {
      "text/html": [
       "<div>\n",
       "<style scoped>\n",
       "    .dataframe tbody tr th:only-of-type {\n",
       "        vertical-align: middle;\n",
       "    }\n",
       "\n",
       "    .dataframe tbody tr th {\n",
       "        vertical-align: top;\n",
       "    }\n",
       "\n",
       "    .dataframe thead th {\n",
       "        text-align: right;\n",
       "    }\n",
       "</style>\n",
       "<table border=\"1\" class=\"dataframe\">\n",
       "  <thead>\n",
       "    <tr style=\"text-align: right;\">\n",
       "      <th></th>\n",
       "      <th>Страна</th>\n",
       "      <th>2018</th>\n",
       "      <th>2019</th>\n",
       "    </tr>\n",
       "  </thead>\n",
       "  <tbody>\n",
       "    <tr>\n",
       "      <th>US</th>\n",
       "      <td>США</td>\n",
       "      <td>20612</td>\n",
       "      <td>21433</td>\n",
       "    </tr>\n",
       "    <tr>\n",
       "      <th>CN</th>\n",
       "      <td>Китай</td>\n",
       "      <td>13842</td>\n",
       "      <td>14402</td>\n",
       "    </tr>\n",
       "    <tr>\n",
       "      <th>RU</th>\n",
       "      <td>Россия</td>\n",
       "      <td>1665</td>\n",
       "      <td>1702</td>\n",
       "    </tr>\n",
       "    <tr>\n",
       "      <th>TR</th>\n",
       "      <td>Турция</td>\n",
       "      <td>780</td>\n",
       "      <td>761</td>\n",
       "    </tr>\n",
       "    <tr>\n",
       "      <th>ZA</th>\n",
       "      <td>ЮАР</td>\n",
       "      <td>368</td>\n",
       "      <td>351</td>\n",
       "    </tr>\n",
       "  </tbody>\n",
       "</table>\n",
       "</div>"
      ],
      "text/plain": [
       "    Страна   2018   2019\n",
       "US     США  20612  21433\n",
       "CN   Китай  13842  14402\n",
       "RU  Россия   1665   1702\n",
       "TR  Турция    780    761\n",
       "ZA     ЮАР    368    351"
      ]
     },
     "execution_count": 33,
     "metadata": {},
     "output_type": "execute_result"
    }
   ],
   "source": [
    "df.rename(columns={'2018 год': '2018', '2019 год': '2019'})"
   ]
  },
  {
   "cell_type": "markdown",
   "metadata": {
    "id": "DjNLWHzc6S8F"
   },
   "source": [
    "Метод **rename** на вход принимает обычный словарь, ключ который является текущем названием столбца, а значение – новым. За один раз мы можем переименовать сколько угодно столбцов, главное не забывайте разделять элементы словаря запятой.\n",
    "\n",
    "**Важно**: результат выполнение метода rename возвращает новый измененный объект **DataFrame**, поэтому переназначь основной экземпляр **DataFrame**.\n"
   ]
  },
  {
   "cell_type": "markdown",
   "metadata": {
    "id": "MlKhLfOw6iGp"
   },
   "source": [
    "**Создание**\n",
    "\n",
    "Создадим новую колонку “Рост” и наполним ее значениями высчитанными из разницы 2019 к 2018 году.\n"
   ]
  },
  {
   "cell_type": "code",
   "execution_count": 34,
   "metadata": {
    "id": "jMSWQOm791tI"
   },
   "outputs": [],
   "source": [
    "dfr=df.rename(columns={'2018 год': '2018', '2019 год': '2019'})"
   ]
  },
  {
   "cell_type": "code",
   "execution_count": 35,
   "metadata": {
    "colab": {
     "base_uri": "https://localhost:8080/",
     "height": 0
    },
    "id": "oEZ50WSUu6p3",
    "outputId": "b60b90cb-9364-4f56-8c5b-4f7497a34d82"
   },
   "outputs": [
    {
     "data": {
      "text/html": [
       "<div>\n",
       "<style scoped>\n",
       "    .dataframe tbody tr th:only-of-type {\n",
       "        vertical-align: middle;\n",
       "    }\n",
       "\n",
       "    .dataframe tbody tr th {\n",
       "        vertical-align: top;\n",
       "    }\n",
       "\n",
       "    .dataframe thead th {\n",
       "        text-align: right;\n",
       "    }\n",
       "</style>\n",
       "<table border=\"1\" class=\"dataframe\">\n",
       "  <thead>\n",
       "    <tr style=\"text-align: right;\">\n",
       "      <th></th>\n",
       "      <th>Страна</th>\n",
       "      <th>2018</th>\n",
       "      <th>2019</th>\n",
       "      <th>Рост</th>\n",
       "    </tr>\n",
       "  </thead>\n",
       "  <tbody>\n",
       "    <tr>\n",
       "      <th>US</th>\n",
       "      <td>США</td>\n",
       "      <td>20612</td>\n",
       "      <td>21433</td>\n",
       "      <td>821</td>\n",
       "    </tr>\n",
       "    <tr>\n",
       "      <th>CN</th>\n",
       "      <td>Китай</td>\n",
       "      <td>13842</td>\n",
       "      <td>14402</td>\n",
       "      <td>560</td>\n",
       "    </tr>\n",
       "    <tr>\n",
       "      <th>RU</th>\n",
       "      <td>Россия</td>\n",
       "      <td>1665</td>\n",
       "      <td>1702</td>\n",
       "      <td>37</td>\n",
       "    </tr>\n",
       "    <tr>\n",
       "      <th>TR</th>\n",
       "      <td>Турция</td>\n",
       "      <td>780</td>\n",
       "      <td>761</td>\n",
       "      <td>-19</td>\n",
       "    </tr>\n",
       "    <tr>\n",
       "      <th>ZA</th>\n",
       "      <td>ЮАР</td>\n",
       "      <td>368</td>\n",
       "      <td>351</td>\n",
       "      <td>-17</td>\n",
       "    </tr>\n",
       "  </tbody>\n",
       "</table>\n",
       "</div>"
      ],
      "text/plain": [
       "    Страна   2018   2019  Рост\n",
       "US     США  20612  21433   821\n",
       "CN   Китай  13842  14402   560\n",
       "RU  Россия   1665   1702    37\n",
       "TR  Турция    780    761   -19\n",
       "ZA     ЮАР    368    351   -17"
      ]
     },
     "execution_count": 35,
     "metadata": {},
     "output_type": "execute_result"
    }
   ],
   "source": [
    "dfr[\"Рост\"] = dfr['2019'] - dfr['2018']\n",
    "dfr"
   ]
  },
  {
   "cell_type": "markdown",
   "metadata": {
    "id": "Lo-4DSv4-aCr"
   },
   "source": [
    "**Удаление**\n",
    "\n",
    "Для удаления столбца существует метод **drop**, так же необходимо передать в аргумент **axis** значение **index** или **columns**.\n"
   ]
  },
  {
   "cell_type": "code",
   "execution_count": 36,
   "metadata": {
    "colab": {
     "base_uri": "https://localhost:8080/",
     "height": 0
    },
    "id": "kIc5Wchsu6vO",
    "outputId": "20b99519-c6f1-421a-bd53-c6b310569f78"
   },
   "outputs": [
    {
     "data": {
      "text/html": [
       "<div>\n",
       "<style scoped>\n",
       "    .dataframe tbody tr th:only-of-type {\n",
       "        vertical-align: middle;\n",
       "    }\n",
       "\n",
       "    .dataframe tbody tr th {\n",
       "        vertical-align: top;\n",
       "    }\n",
       "\n",
       "    .dataframe thead th {\n",
       "        text-align: right;\n",
       "    }\n",
       "</style>\n",
       "<table border=\"1\" class=\"dataframe\">\n",
       "  <thead>\n",
       "    <tr style=\"text-align: right;\">\n",
       "      <th></th>\n",
       "      <th>Страна</th>\n",
       "      <th>2018</th>\n",
       "      <th>2019</th>\n",
       "    </tr>\n",
       "  </thead>\n",
       "  <tbody>\n",
       "    <tr>\n",
       "      <th>US</th>\n",
       "      <td>США</td>\n",
       "      <td>20612</td>\n",
       "      <td>21433</td>\n",
       "    </tr>\n",
       "    <tr>\n",
       "      <th>CN</th>\n",
       "      <td>Китай</td>\n",
       "      <td>13842</td>\n",
       "      <td>14402</td>\n",
       "    </tr>\n",
       "    <tr>\n",
       "      <th>RU</th>\n",
       "      <td>Россия</td>\n",
       "      <td>1665</td>\n",
       "      <td>1702</td>\n",
       "    </tr>\n",
       "    <tr>\n",
       "      <th>TR</th>\n",
       "      <td>Турция</td>\n",
       "      <td>780</td>\n",
       "      <td>761</td>\n",
       "    </tr>\n",
       "    <tr>\n",
       "      <th>ZA</th>\n",
       "      <td>ЮАР</td>\n",
       "      <td>368</td>\n",
       "      <td>351</td>\n",
       "    </tr>\n",
       "  </tbody>\n",
       "</table>\n",
       "</div>"
      ],
      "text/plain": [
       "    Страна   2018   2019\n",
       "US     США  20612  21433\n",
       "CN   Китай  13842  14402\n",
       "RU  Россия   1665   1702\n",
       "TR  Турция    780    761\n",
       "ZA     ЮАР    368    351"
      ]
     },
     "execution_count": 36,
     "metadata": {},
     "output_type": "execute_result"
    }
   ],
   "source": [
    "dfr.drop([\"Рост\"], axis=\"columns\")"
   ]
  },
  {
   "cell_type": "markdown",
   "metadata": {
    "id": "kw_s5c-X-nvF"
   },
   "source": [
    "**Важно:** результат выполнение метода **drop** возвращает новый измененный объект **DataFrame**, поэтому не забудьте переназначить **DataFrame**."
   ]
  },
  {
   "cell_type": "code",
   "execution_count": 37,
   "metadata": {
    "colab": {
     "base_uri": "https://localhost:8080/",
     "height": 0
    },
    "id": "YBgQW_UI-yWQ",
    "outputId": "14984c4e-a1f5-4409-b236-bd2ae212417b"
   },
   "outputs": [
    {
     "data": {
      "text/html": [
       "<div>\n",
       "<style scoped>\n",
       "    .dataframe tbody tr th:only-of-type {\n",
       "        vertical-align: middle;\n",
       "    }\n",
       "\n",
       "    .dataframe tbody tr th {\n",
       "        vertical-align: top;\n",
       "    }\n",
       "\n",
       "    .dataframe thead th {\n",
       "        text-align: right;\n",
       "    }\n",
       "</style>\n",
       "<table border=\"1\" class=\"dataframe\">\n",
       "  <thead>\n",
       "    <tr style=\"text-align: right;\">\n",
       "      <th></th>\n",
       "      <th>Страна</th>\n",
       "      <th>2018</th>\n",
       "      <th>2019</th>\n",
       "      <th>Рост</th>\n",
       "    </tr>\n",
       "  </thead>\n",
       "  <tbody>\n",
       "    <tr>\n",
       "      <th>US</th>\n",
       "      <td>США</td>\n",
       "      <td>20612</td>\n",
       "      <td>21433</td>\n",
       "      <td>821</td>\n",
       "    </tr>\n",
       "    <tr>\n",
       "      <th>CN</th>\n",
       "      <td>Китай</td>\n",
       "      <td>13842</td>\n",
       "      <td>14402</td>\n",
       "      <td>560</td>\n",
       "    </tr>\n",
       "    <tr>\n",
       "      <th>RU</th>\n",
       "      <td>Россия</td>\n",
       "      <td>1665</td>\n",
       "      <td>1702</td>\n",
       "      <td>37</td>\n",
       "    </tr>\n",
       "    <tr>\n",
       "      <th>TR</th>\n",
       "      <td>Турция</td>\n",
       "      <td>780</td>\n",
       "      <td>761</td>\n",
       "      <td>-19</td>\n",
       "    </tr>\n",
       "    <tr>\n",
       "      <th>ZA</th>\n",
       "      <td>ЮАР</td>\n",
       "      <td>368</td>\n",
       "      <td>351</td>\n",
       "      <td>-17</td>\n",
       "    </tr>\n",
       "  </tbody>\n",
       "</table>\n",
       "</div>"
      ],
      "text/plain": [
       "    Страна   2018   2019  Рост\n",
       "US     США  20612  21433   821\n",
       "CN   Китай  13842  14402   560\n",
       "RU  Россия   1665   1702    37\n",
       "TR  Турция    780    761   -19\n",
       "ZA     ЮАР    368    351   -17"
      ]
     },
     "execution_count": 37,
     "metadata": {},
     "output_type": "execute_result"
    }
   ],
   "source": [
    "dfr"
   ]
  },
  {
   "cell_type": "code",
   "execution_count": 38,
   "metadata": {
    "colab": {
     "base_uri": "https://localhost:8080/",
     "height": 0
    },
    "id": "WGjCNGF1-2Nn",
    "outputId": "ffde6852-ad1f-440f-9c6c-e47774abc2dd"
   },
   "outputs": [
    {
     "data": {
      "text/html": [
       "<div>\n",
       "<style scoped>\n",
       "    .dataframe tbody tr th:only-of-type {\n",
       "        vertical-align: middle;\n",
       "    }\n",
       "\n",
       "    .dataframe tbody tr th {\n",
       "        vertical-align: top;\n",
       "    }\n",
       "\n",
       "    .dataframe thead th {\n",
       "        text-align: right;\n",
       "    }\n",
       "</style>\n",
       "<table border=\"1\" class=\"dataframe\">\n",
       "  <thead>\n",
       "    <tr style=\"text-align: right;\">\n",
       "      <th></th>\n",
       "      <th>Страна</th>\n",
       "      <th>2018</th>\n",
       "      <th>2019</th>\n",
       "    </tr>\n",
       "  </thead>\n",
       "  <tbody>\n",
       "    <tr>\n",
       "      <th>US</th>\n",
       "      <td>США</td>\n",
       "      <td>20612</td>\n",
       "      <td>21433</td>\n",
       "    </tr>\n",
       "    <tr>\n",
       "      <th>CN</th>\n",
       "      <td>Китай</td>\n",
       "      <td>13842</td>\n",
       "      <td>14402</td>\n",
       "    </tr>\n",
       "    <tr>\n",
       "      <th>RU</th>\n",
       "      <td>Россия</td>\n",
       "      <td>1665</td>\n",
       "      <td>1702</td>\n",
       "    </tr>\n",
       "    <tr>\n",
       "      <th>TR</th>\n",
       "      <td>Турция</td>\n",
       "      <td>780</td>\n",
       "      <td>761</td>\n",
       "    </tr>\n",
       "    <tr>\n",
       "      <th>ZA</th>\n",
       "      <td>ЮАР</td>\n",
       "      <td>368</td>\n",
       "      <td>351</td>\n",
       "    </tr>\n",
       "  </tbody>\n",
       "</table>\n",
       "</div>"
      ],
      "text/plain": [
       "    Страна   2018   2019\n",
       "US     США  20612  21433\n",
       "CN   Китай  13842  14402\n",
       "RU  Россия   1665   1702\n",
       "TR  Турция    780    761\n",
       "ZA     ЮАР    368    351"
      ]
     },
     "execution_count": 38,
     "metadata": {},
     "output_type": "execute_result"
    }
   ],
   "source": [
    "dfr2=dfr.drop([\"Рост\"], axis=\"columns\")\n",
    "dfr2"
   ]
  },
  {
   "cell_type": "markdown",
   "metadata": {
    "id": "3yw6a8c4_BT_"
   },
   "source": [
    "# **Загрузка данных**\n",
    "\n",
    "**API** загрузки данных имеет поддержку множество структурированных форматов. Для примера возьмем информацию из [Реестра аккредитованных образовательных учреждений, расположенных на территории субъектов Российской Федерации](https://data.mos.ru/opendata/2021). На сайте есть ссылочка для скачивания таблиц в формате **CSV** и **MS Excel** эти два формата мы и рассмотрим.\n"
   ]
  },
  {
   "cell_type": "markdown",
   "metadata": {
    "id": "3or26T0hxOnY"
   },
   "source": [
    "**Из таблицы CSV**\n",
    "\n",
    "Осуществить загрузку данных в таблицу можно используя метод **read_csv**\n"
   ]
  },
  {
   "cell_type": "code",
   "execution_count": 39,
   "metadata": {
    "colab": {
     "base_uri": "https://localhost:8080/",
     "height": 74
    },
    "id": "aO8zPnYSwUhu",
    "outputId": "2365f0f3-c391-4c30-9a82-96dfec09235d"
   },
   "outputs": [],
   "source": [
    "#from google.colab import files\n",
    "#uploaded = files.upload()"
   ]
  },
  {
   "cell_type": "code",
   "execution_count": 40,
   "metadata": {
    "id": "vaRU5endA0Ml"
   },
   "outputs": [],
   "source": [
    "# Загрузим данные из csv документа\n",
    "#data_csv = pd.read_csv(\"Data5.csv\", sep=';')"
   ]
  },
  {
   "cell_type": "code",
   "execution_count": 41,
   "metadata": {
    "id": "iBLKB2BoCs4R"
   },
   "outputs": [],
   "source": [
    "#data_csv "
   ]
  },
  {
   "cell_type": "code",
   "execution_count": 42,
   "metadata": {
    "id": "xsbRtrEdCZGf"
   },
   "outputs": [],
   "source": [
    "#!rm data-6322-2022-10-06.xlsx"
   ]
  },
  {
   "cell_type": "markdown",
   "metadata": {
    "id": "BefygGY5HVT1"
   },
   "source": [
    "**Из таблицы MS Excel**\n",
    "\n",
    "За загрузку данных из **excel** таблицы отвечает метод **read_excel**\n"
   ]
  },
  {
   "cell_type": "code",
   "execution_count": 43,
   "metadata": {
    "id": "MaguUu-1Hb5p"
   },
   "outputs": [],
   "source": [
    "#from google.colab import files\n",
    "#uploaded = files.upload()"
   ]
  },
  {
   "cell_type": "code",
   "execution_count": 44,
   "metadata": {
    "colab": {
     "base_uri": "https://localhost:8080/"
    },
    "id": "vutJlYNNBbR_",
    "outputId": "47263bfd-9a06-41a1-96eb-c3e34e04aa25",
    "scrolled": true
   },
   "outputs": [
    {
     "name": "stderr",
     "output_type": "stream",
     "text": [
      "\"ls\" ­Ґ пў«пҐвбп ў­гваҐ­­Ґ© Ё«Ё ў­Ґи­Ґ©\n",
      "Є®¬ ­¤®©, ЁбЇ®«­пҐ¬®© Їа®Ја ¬¬®© Ё«Ё Ї ЄҐв­л¬ д ©«®¬.\n"
     ]
    }
   ],
   "source": [
    "!ls"
   ]
  },
  {
   "cell_type": "code",
   "execution_count": 45,
   "metadata": {
    "colab": {
     "base_uri": "https://localhost:8080/"
    },
    "id": "dQVNehcdHo8Z",
    "outputId": "153b4a5a-e8b0-42c5-ed8a-1fc888c5d51c"
   },
   "outputs": [
    {
     "name": "stderr",
     "output_type": "stream",
     "text": [
      "C:\\Users\\malch\\anaconda3\\lib\\site-packages\\openpyxl\\styles\\stylesheet.py:226: UserWarning: Workbook contains no default style, apply openpyxl's default\n",
      "  warn(\"Workbook contains no default style, apply openpyxl's default\")\n"
     ]
    }
   ],
   "source": [
    "data_xlsx = pd.read_excel('data-6322-2023-04-10.xlsx')"
   ]
  },
  {
   "cell_type": "code",
   "execution_count": 46,
   "metadata": {
    "colab": {
     "base_uri": "https://localhost:8080/",
     "height": 852
    },
    "id": "ENcIhMgdH2Zv",
    "outputId": "1a66cf67-64ae-4d0c-98c1-6df0b0f7e122"
   },
   "outputs": [
    {
     "data": {
      "text/html": [
       "<div>\n",
       "<style scoped>\n",
       "    .dataframe tbody tr th:only-of-type {\n",
       "        vertical-align: middle;\n",
       "    }\n",
       "\n",
       "    .dataframe tbody tr th {\n",
       "        vertical-align: top;\n",
       "    }\n",
       "\n",
       "    .dataframe thead th {\n",
       "        text-align: right;\n",
       "    }\n",
       "</style>\n",
       "<table border=\"1\" class=\"dataframe\">\n",
       "  <thead>\n",
       "    <tr style=\"text-align: right;\">\n",
       "      <th></th>\n",
       "      <th>ID</th>\n",
       "      <th>FullName</th>\n",
       "      <th>INN</th>\n",
       "      <th>OGRN</th>\n",
       "      <th>AccreditationAuthority</th>\n",
       "      <th>Education</th>\n",
       "      <th>CertificateNumber</th>\n",
       "      <th>CertificateIssueDate</th>\n",
       "      <th>Validity</th>\n",
       "      <th>CertificateFormSeries</th>\n",
       "      <th>...</th>\n",
       "      <th>FullName_en</th>\n",
       "      <th>INN_en</th>\n",
       "      <th>OGRN_en</th>\n",
       "      <th>AccreditationAuthority_en</th>\n",
       "      <th>Education_en</th>\n",
       "      <th>CertificateNumber_en</th>\n",
       "      <th>CertificateIssueDate_en</th>\n",
       "      <th>Validity_en</th>\n",
       "      <th>CertificateFormSeries_en</th>\n",
       "      <th>CertificateFormNumber_en</th>\n",
       "    </tr>\n",
       "  </thead>\n",
       "  <tbody>\n",
       "    <tr>\n",
       "      <th>0</th>\n",
       "      <td>Код</td>\n",
       "      <td>Полное официальное наименование</td>\n",
       "      <td>ИНН</td>\n",
       "      <td>ОГРН</td>\n",
       "      <td>Наименование аккредитационного органа</td>\n",
       "      <td>Образовательные программы</td>\n",
       "      <td>Номер свидетельства</td>\n",
       "      <td>Дата выдачи свидетельства</td>\n",
       "      <td>Срок действия</td>\n",
       "      <td>Серия бланка свидетельства об аккредитации</td>\n",
       "      <td>...</td>\n",
       "      <td>FullName_en</td>\n",
       "      <td>INN_en</td>\n",
       "      <td>OGRN_en</td>\n",
       "      <td>AccreditationAuthority_en</td>\n",
       "      <td>Education_en</td>\n",
       "      <td>CertificateNumber_en</td>\n",
       "      <td>CertificateIssueDate_en</td>\n",
       "      <td>Validity_en</td>\n",
       "      <td>CertificateFormSeries_en</td>\n",
       "      <td>CertificateFormNumber_en</td>\n",
       "    </tr>\n",
       "    <tr>\n",
       "      <th>1</th>\n",
       "      <td>41</td>\n",
       "      <td>Государственное бюджетное общеобразовательное ...</td>\n",
       "      <td>7701375995</td>\n",
       "      <td>5137746011035</td>\n",
       "      <td>Департамент образования и науки города Москвы</td>\n",
       "      <td>Education:начальное общее образование\\n\\nEduca...</td>\n",
       "      <td>003991</td>\n",
       "      <td>11.12.2015</td>\n",
       "      <td>бессрочно</td>\n",
       "      <td>77А01</td>\n",
       "      <td>...</td>\n",
       "      <td>NaN</td>\n",
       "      <td>NaN</td>\n",
       "      <td>NaN</td>\n",
       "      <td>NaN</td>\n",
       "      <td>NaN</td>\n",
       "      <td>NaN</td>\n",
       "      <td>NaN</td>\n",
       "      <td>NaN</td>\n",
       "      <td>NaN</td>\n",
       "      <td>NaN</td>\n",
       "    </tr>\n",
       "    <tr>\n",
       "      <th>2</th>\n",
       "      <td>42</td>\n",
       "      <td>Государственное бюджетное общеобразовательное ...</td>\n",
       "      <td>7708071876</td>\n",
       "      <td>1027700388363</td>\n",
       "      <td>Департамент образования и науки города Москвы</td>\n",
       "      <td>Education:начальное общее образование\\n\\nEduca...</td>\n",
       "      <td>005069</td>\n",
       "      <td>31.03.2023</td>\n",
       "      <td>бессрочно</td>\n",
       "      <td>77А01</td>\n",
       "      <td>...</td>\n",
       "      <td>NaN</td>\n",
       "      <td>NaN</td>\n",
       "      <td>NaN</td>\n",
       "      <td>NaN</td>\n",
       "      <td>NaN</td>\n",
       "      <td>NaN</td>\n",
       "      <td>NaN</td>\n",
       "      <td>NaN</td>\n",
       "      <td>NaN</td>\n",
       "      <td>NaN</td>\n",
       "    </tr>\n",
       "    <tr>\n",
       "      <th>3</th>\n",
       "      <td>43</td>\n",
       "      <td>Государственное бюджетное общеобразовательное ...</td>\n",
       "      <td>7704118139</td>\n",
       "      <td>1027700587672</td>\n",
       "      <td>Департамент образования и науки города Москвы</td>\n",
       "      <td>Education:основное общее образование\\n\\nEducat...</td>\n",
       "      <td>004773</td>\n",
       "      <td>16.04.2018</td>\n",
       "      <td>бессрочно</td>\n",
       "      <td>77А01</td>\n",
       "      <td>...</td>\n",
       "      <td>NaN</td>\n",
       "      <td>NaN</td>\n",
       "      <td>NaN</td>\n",
       "      <td>NaN</td>\n",
       "      <td>NaN</td>\n",
       "      <td>NaN</td>\n",
       "      <td>NaN</td>\n",
       "      <td>NaN</td>\n",
       "      <td>NaN</td>\n",
       "      <td>NaN</td>\n",
       "    </tr>\n",
       "    <tr>\n",
       "      <th>4</th>\n",
       "      <td>44</td>\n",
       "      <td>Государственное бюджетное общеобразовательное ...</td>\n",
       "      <td>7720325492</td>\n",
       "      <td>5157746151921</td>\n",
       "      <td>Департамент образования и науки города Москвы</td>\n",
       "      <td>Education:начальное общее образование\\n\\nEduca...</td>\n",
       "      <td>004148</td>\n",
       "      <td>12.02.2016</td>\n",
       "      <td>бессрочно</td>\n",
       "      <td>77А01</td>\n",
       "      <td>...</td>\n",
       "      <td>NaN</td>\n",
       "      <td>NaN</td>\n",
       "      <td>NaN</td>\n",
       "      <td>NaN</td>\n",
       "      <td>NaN</td>\n",
       "      <td>NaN</td>\n",
       "      <td>NaN</td>\n",
       "      <td>NaN</td>\n",
       "      <td>NaN</td>\n",
       "      <td>NaN</td>\n",
       "    </tr>\n",
       "    <tr>\n",
       "      <th>...</th>\n",
       "      <td>...</td>\n",
       "      <td>...</td>\n",
       "      <td>...</td>\n",
       "      <td>...</td>\n",
       "      <td>...</td>\n",
       "      <td>...</td>\n",
       "      <td>...</td>\n",
       "      <td>...</td>\n",
       "      <td>...</td>\n",
       "      <td>...</td>\n",
       "      <td>...</td>\n",
       "      <td>...</td>\n",
       "      <td>...</td>\n",
       "      <td>...</td>\n",
       "      <td>...</td>\n",
       "      <td>...</td>\n",
       "      <td>...</td>\n",
       "      <td>...</td>\n",
       "      <td>...</td>\n",
       "      <td>...</td>\n",
       "      <td>...</td>\n",
       "    </tr>\n",
       "    <tr>\n",
       "      <th>901</th>\n",
       "      <td>1733</td>\n",
       "      <td>Государственное бюджетное профессиональное обр...</td>\n",
       "      <td>7716079082</td>\n",
       "      <td>1037739236215</td>\n",
       "      <td>Департамент образования и науки города Москвы</td>\n",
       "      <td>Education:среднее профессиональное образование...</td>\n",
       "      <td>005059</td>\n",
       "      <td>02.02.2023</td>\n",
       "      <td>02.02.2024</td>\n",
       "      <td>77А01</td>\n",
       "      <td>...</td>\n",
       "      <td>NaN</td>\n",
       "      <td>NaN</td>\n",
       "      <td>NaN</td>\n",
       "      <td>NaN</td>\n",
       "      <td>NaN</td>\n",
       "      <td>NaN</td>\n",
       "      <td>NaN</td>\n",
       "      <td>NaN</td>\n",
       "      <td>NaN</td>\n",
       "      <td>NaN</td>\n",
       "    </tr>\n",
       "    <tr>\n",
       "      <th>902</th>\n",
       "      <td>1734</td>\n",
       "      <td>ОБЩЕОБРАЗОВАТЕЛЬНОЕ ЧАСТНОЕ УЧРЕЖДЕНИЕ СРЕДНЯЯ...</td>\n",
       "      <td>9715391013</td>\n",
       "      <td>1207700379006</td>\n",
       "      <td>Департамент образования и науки города Москвы</td>\n",
       "      <td>Education:начальное общее образование\\n\\nEduca...</td>\n",
       "      <td>005068</td>\n",
       "      <td>24.03.2023</td>\n",
       "      <td>бессрочно</td>\n",
       "      <td>77А01</td>\n",
       "      <td>...</td>\n",
       "      <td>NaN</td>\n",
       "      <td>NaN</td>\n",
       "      <td>NaN</td>\n",
       "      <td>NaN</td>\n",
       "      <td>NaN</td>\n",
       "      <td>NaN</td>\n",
       "      <td>NaN</td>\n",
       "      <td>NaN</td>\n",
       "      <td>NaN</td>\n",
       "      <td>NaN</td>\n",
       "    </tr>\n",
       "    <tr>\n",
       "      <th>903</th>\n",
       "      <td>1735</td>\n",
       "      <td>АВТОНОМНАЯ НЕКОММЕРЧЕСКАЯ ОБЩЕОБАЗОВАТЕЛЬНАЯ О...</td>\n",
       "      <td>9719003670</td>\n",
       "      <td>1207700168411</td>\n",
       "      <td>Департамент образования и науки города Москвы</td>\n",
       "      <td>Education:начальное общее образование\\n\\n</td>\n",
       "      <td>005070</td>\n",
       "      <td>03.04.2023</td>\n",
       "      <td>бессрочно</td>\n",
       "      <td>77А01</td>\n",
       "      <td>...</td>\n",
       "      <td>NaN</td>\n",
       "      <td>NaN</td>\n",
       "      <td>NaN</td>\n",
       "      <td>NaN</td>\n",
       "      <td>NaN</td>\n",
       "      <td>NaN</td>\n",
       "      <td>NaN</td>\n",
       "      <td>NaN</td>\n",
       "      <td>NaN</td>\n",
       "      <td>NaN</td>\n",
       "    </tr>\n",
       "    <tr>\n",
       "      <th>904</th>\n",
       "      <td>1736</td>\n",
       "      <td>Частное общеобразовательное учреждение «Частна...</td>\n",
       "      <td>7734402612</td>\n",
       "      <td>1177700006659</td>\n",
       "      <td>Департамент образования и науки города Москвы</td>\n",
       "      <td>Education:начальное общее образование\\n\\n</td>\n",
       "      <td>005071</td>\n",
       "      <td>03.04.2023</td>\n",
       "      <td>бессрочно</td>\n",
       "      <td>77А01</td>\n",
       "      <td>...</td>\n",
       "      <td>NaN</td>\n",
       "      <td>NaN</td>\n",
       "      <td>NaN</td>\n",
       "      <td>NaN</td>\n",
       "      <td>NaN</td>\n",
       "      <td>NaN</td>\n",
       "      <td>NaN</td>\n",
       "      <td>NaN</td>\n",
       "      <td>NaN</td>\n",
       "      <td>NaN</td>\n",
       "    </tr>\n",
       "    <tr>\n",
       "      <th>905</th>\n",
       "      <td>1737</td>\n",
       "      <td>федеральное государственное бюджетное образова...</td>\n",
       "      <td>3702068020</td>\n",
       "      <td>1053701033407</td>\n",
       "      <td>Департамент образования и науки города Москвы</td>\n",
       "      <td>Education:начальное общее образование\\n\\nEduca...</td>\n",
       "      <td>005072</td>\n",
       "      <td>04.04.2023</td>\n",
       "      <td>бессрочно</td>\n",
       "      <td>77А01</td>\n",
       "      <td>...</td>\n",
       "      <td>NaN</td>\n",
       "      <td>NaN</td>\n",
       "      <td>NaN</td>\n",
       "      <td>NaN</td>\n",
       "      <td>NaN</td>\n",
       "      <td>NaN</td>\n",
       "      <td>NaN</td>\n",
       "      <td>NaN</td>\n",
       "      <td>NaN</td>\n",
       "      <td>NaN</td>\n",
       "    </tr>\n",
       "  </tbody>\n",
       "</table>\n",
       "<p>906 rows × 23 columns</p>\n",
       "</div>"
      ],
      "text/plain": [
       "       ID                                           FullName         INN  \\\n",
       "0     Код                    Полное официальное наименование         ИНН   \n",
       "1      41  Государственное бюджетное общеобразовательное ...  7701375995   \n",
       "2      42  Государственное бюджетное общеобразовательное ...  7708071876   \n",
       "3      43  Государственное бюджетное общеобразовательное ...  7704118139   \n",
       "4      44  Государственное бюджетное общеобразовательное ...  7720325492   \n",
       "..    ...                                                ...         ...   \n",
       "901  1733  Государственное бюджетное профессиональное обр...  7716079082   \n",
       "902  1734  ОБЩЕОБРАЗОВАТЕЛЬНОЕ ЧАСТНОЕ УЧРЕЖДЕНИЕ СРЕДНЯЯ...  9715391013   \n",
       "903  1735  АВТОНОМНАЯ НЕКОММЕРЧЕСКАЯ ОБЩЕОБАЗОВАТЕЛЬНАЯ О...  9719003670   \n",
       "904  1736  Частное общеобразовательное учреждение «Частна...  7734402612   \n",
       "905  1737  федеральное государственное бюджетное образова...  3702068020   \n",
       "\n",
       "              OGRN                         AccreditationAuthority  \\\n",
       "0             ОГРН          Наименование аккредитационного органа   \n",
       "1    5137746011035  Департамент образования и науки города Москвы   \n",
       "2    1027700388363  Департамент образования и науки города Москвы   \n",
       "3    1027700587672  Департамент образования и науки города Москвы   \n",
       "4    5157746151921  Департамент образования и науки города Москвы   \n",
       "..             ...                                            ...   \n",
       "901  1037739236215  Департамент образования и науки города Москвы   \n",
       "902  1207700379006  Департамент образования и науки города Москвы   \n",
       "903  1207700168411  Департамент образования и науки города Москвы   \n",
       "904  1177700006659  Департамент образования и науки города Москвы   \n",
       "905  1053701033407  Департамент образования и науки города Москвы   \n",
       "\n",
       "                                             Education    CertificateNumber  \\\n",
       "0                            Образовательные программы  Номер свидетельства   \n",
       "1    Education:начальное общее образование\\n\\nEduca...               003991   \n",
       "2    Education:начальное общее образование\\n\\nEduca...               005069   \n",
       "3    Education:основное общее образование\\n\\nEducat...               004773   \n",
       "4    Education:начальное общее образование\\n\\nEduca...               004148   \n",
       "..                                                 ...                  ...   \n",
       "901  Education:среднее профессиональное образование...               005059   \n",
       "902  Education:начальное общее образование\\n\\nEduca...               005068   \n",
       "903          Education:начальное общее образование\\n\\n               005070   \n",
       "904          Education:начальное общее образование\\n\\n               005071   \n",
       "905  Education:начальное общее образование\\n\\nEduca...               005072   \n",
       "\n",
       "          CertificateIssueDate       Validity  \\\n",
       "0    Дата выдачи свидетельства  Срок действия   \n",
       "1                   11.12.2015      бессрочно   \n",
       "2                   31.03.2023      бессрочно   \n",
       "3                   16.04.2018      бессрочно   \n",
       "4                   12.02.2016      бессрочно   \n",
       "..                         ...            ...   \n",
       "901                 02.02.2023     02.02.2024   \n",
       "902                 24.03.2023      бессрочно   \n",
       "903                 03.04.2023      бессрочно   \n",
       "904                 03.04.2023      бессрочно   \n",
       "905                 04.04.2023      бессрочно   \n",
       "\n",
       "                          CertificateFormSeries  ...  FullName_en  INN_en  \\\n",
       "0    Серия бланка свидетельства об аккредитации  ...  FullName_en  INN_en   \n",
       "1                                         77А01  ...          NaN     NaN   \n",
       "2                                         77А01  ...          NaN     NaN   \n",
       "3                                         77А01  ...          NaN     NaN   \n",
       "4                                         77А01  ...          NaN     NaN   \n",
       "..                                          ...  ...          ...     ...   \n",
       "901                                       77А01  ...          NaN     NaN   \n",
       "902                                       77А01  ...          NaN     NaN   \n",
       "903                                       77А01  ...          NaN     NaN   \n",
       "904                                       77А01  ...          NaN     NaN   \n",
       "905                                       77А01  ...          NaN     NaN   \n",
       "\n",
       "     OGRN_en  AccreditationAuthority_en  Education_en  CertificateNumber_en  \\\n",
       "0    OGRN_en  AccreditationAuthority_en  Education_en  CertificateNumber_en   \n",
       "1        NaN                        NaN           NaN                   NaN   \n",
       "2        NaN                        NaN           NaN                   NaN   \n",
       "3        NaN                        NaN           NaN                   NaN   \n",
       "4        NaN                        NaN           NaN                   NaN   \n",
       "..       ...                        ...           ...                   ...   \n",
       "901      NaN                        NaN           NaN                   NaN   \n",
       "902      NaN                        NaN           NaN                   NaN   \n",
       "903      NaN                        NaN           NaN                   NaN   \n",
       "904      NaN                        NaN           NaN                   NaN   \n",
       "905      NaN                        NaN           NaN                   NaN   \n",
       "\n",
       "     CertificateIssueDate_en  Validity_en  CertificateFormSeries_en  \\\n",
       "0    CertificateIssueDate_en  Validity_en  CertificateFormSeries_en   \n",
       "1                        NaN          NaN                       NaN   \n",
       "2                        NaN          NaN                       NaN   \n",
       "3                        NaN          NaN                       NaN   \n",
       "4                        NaN          NaN                       NaN   \n",
       "..                       ...          ...                       ...   \n",
       "901                      NaN          NaN                       NaN   \n",
       "902                      NaN          NaN                       NaN   \n",
       "903                      NaN          NaN                       NaN   \n",
       "904                      NaN          NaN                       NaN   \n",
       "905                      NaN          NaN                       NaN   \n",
       "\n",
       "     CertificateFormNumber_en  \n",
       "0    CertificateFormNumber_en  \n",
       "1                         NaN  \n",
       "2                         NaN  \n",
       "3                         NaN  \n",
       "4                         NaN  \n",
       "..                        ...  \n",
       "901                       NaN  \n",
       "902                       NaN  \n",
       "903                       NaN  \n",
       "904                       NaN  \n",
       "905                       NaN  \n",
       "\n",
       "[906 rows x 23 columns]"
      ]
     },
     "execution_count": 46,
     "metadata": {},
     "output_type": "execute_result"
    }
   ],
   "source": [
    "data_xlsx"
   ]
  },
  {
   "cell_type": "code",
   "execution_count": 47,
   "metadata": {
    "colab": {
     "base_uri": "https://localhost:8080/"
    },
    "id": "rE_cgfULKTI7",
    "outputId": "f3baacd9-e1ec-442a-b67f-3b702b78b59a"
   },
   "outputs": [],
   "source": [
    "#data_xlsx.to_excel(\"country.xlsx\",encoding='cp1251')"
   ]
  },
  {
   "cell_type": "markdown",
   "metadata": {
    "id": "6Oh-511UIA1q"
   },
   "source": [
    "# **Сохранение данных**\n",
    "\n",
    "Так же как и в импорте API поддерживает множество форматов для экспорта данных. Воспользуемся данными о ВВП для демонстрации работы.\n"
   ]
  },
  {
   "cell_type": "markdown",
   "metadata": {
    "id": "vZ6_BN_mx0ew"
   },
   "source": [
    "**В таблицу CSV**\n",
    "\n",
    "За запись данных в таблицу **CSV** отвечает метод **to_csv**\n"
   ]
  },
  {
   "cell_type": "code",
   "execution_count": 48,
   "metadata": {
    "id": "TtNL4TXEw8pM"
   },
   "outputs": [],
   "source": [
    "import pandas as pd\n",
    "\n",
    "df = pd.DataFrame({\n",
    "    'Страна': ['США', 'Китай', 'Россия', 'Турция', 'ЮАР'],\n",
    "    '2018 год': [20612, 13842, 1665, 780, 368],\n",
    "    '2019 год': [21433, 14402, 1702, 761, 351],\n",
    "}, index=['US', 'CN', 'RU', 'TR', 'ZA']\n",
    "\n",
    ")\n",
    "\n",
    "#df.to_csv(\"country.csv\",encoding='cp1251')"
   ]
  },
  {
   "cell_type": "markdown",
   "metadata": {
    "id": "suXhJ8mTI3jj"
   },
   "source": [
    "Скачивание файлов в локальную файловую систему\n",
    "Метод **files.download **активирует скачивание файла из браузера на локальный компьютер."
   ]
  },
  {
   "cell_type": "code",
   "execution_count": 49,
   "metadata": {
    "colab": {
     "base_uri": "https://localhost:8080/",
     "height": 0
    },
    "id": "p2E4EKhCWEC5",
    "outputId": "6f150be4-6902-42a5-a00f-35bba04ff713"
   },
   "outputs": [],
   "source": [
    "#from google.colab import files\n",
    "\n",
    "#files.download('country.csv')"
   ]
  },
  {
   "cell_type": "markdown",
   "metadata": {
    "id": "6PKBT4H4JopK"
   },
   "source": [
    "**В таблицу MS Excel**\n",
    "\n",
    "За запись данных в таблицу **MS Excel** отвечает метод **to_excel**\n"
   ]
  },
  {
   "cell_type": "code",
   "execution_count": 50,
   "metadata": {
    "colab": {
     "base_uri": "https://localhost:8080/"
    },
    "id": "krEolWOZxxid",
    "outputId": "b0c7699b-3fb9-44eb-e1c7-4c3e96908066"
   },
   "outputs": [],
   "source": [
    "import pandas as pd\n",
    "\n",
    "df = pd.DataFrame({\n",
    "    'Страна': ['США', 'Китай', 'Россия', 'Турция', 'ЮАР'],\n",
    "    '2018 год': [20612, 13842, 1665, 780, 368],\n",
    "    '2019 год': [21433, 14402, 1702, 761, 351],\n",
    "}, index=['US', 'CN', 'RU', 'TR', 'ZA']\n",
    "\n",
    ")\n",
    "\n",
    "#df.to_excel(\"country.xlsx\",encoding='cp1251')"
   ]
  },
  {
   "cell_type": "code",
   "execution_count": 51,
   "metadata": {
    "colab": {
     "base_uri": "https://localhost:8080/",
     "height": 0
    },
    "id": "zAqW_ngGJ39_",
    "outputId": "55980c18-aa3d-4d31-8089-d205c88047d9"
   },
   "outputs": [],
   "source": [
    "#from google.colab import files\n",
    "\n",
    "#files.download('country.xlsx')"
   ]
  },
  {
   "cell_type": "markdown",
   "metadata": {
    "id": "GoQpt7SDKHAZ"
   },
   "source": [
    "# **Визуализация данных**\n",
    "Визуализация это большая часть работы в анализе и обработке данных. Не будем сильно углубляться и рассмотрим простой пример визуализации наших данных.\n"
   ]
  },
  {
   "cell_type": "markdown",
   "metadata": {
    "id": "bZCoYOppKL1U"
   },
   "source": [
    "Установка библиотеки **matplotlib**\n",
    "\n",
    "Для рисования графиков нам понадобится эта библиотека\n"
   ]
  },
  {
   "cell_type": "code",
   "execution_count": 52,
   "metadata": {
    "id": "2pfYx4U2KNrS"
   },
   "outputs": [],
   "source": [
    "import matplotlib.pyplot as plt"
   ]
  },
  {
   "cell_type": "markdown",
   "metadata": {
    "id": "ahFcGLpiKXRU"
   },
   "source": [
    "**Создание графиков**\n",
    "\n",
    "Самый просто способ сгенерировать график, это передать обработчику данные для одной из координат, для второй он возьмет информацию из индекса.\n"
   ]
  },
  {
   "cell_type": "code",
   "execution_count": 53,
   "metadata": {
    "colab": {
     "base_uri": "https://localhost:8080/",
     "height": 0
    },
    "id": "EdtMf1wmyeq5",
    "outputId": "f74e4884-bba8-4653-9fc6-a78cc7dcfe82"
   },
   "outputs": [
    {
     "data": {
      "image/png": "[encoded data removed]",
      "text/plain": [
       "<Figure size 640x480 with 1 Axes>"
      ]
     },
     "metadata": {},
     "output_type": "display_data"
    }
   ],
   "source": [
    "df.plot(kind='barh', y='2018 год', color='red')\n",
    "plt.show()\n"
   ]
  },
  {
   "cell_type": "code",
   "execution_count": 54,
   "metadata": {
    "colab": {
     "base_uri": "https://localhost:8080/",
     "height": 0
    },
    "id": "zrLx1dYUKga2",
    "outputId": "da4da732-7f7c-4ed5-c12b-605653eaacde"
   },
   "outputs": [
    {
     "data": {
      "image/png": "[encoded data removed]",
      "text/plain": [
       "<Figure size 640x480 with 1 Axes>"
      ]
     },
     "metadata": {},
     "output_type": "display_data"
    }
   ],
   "source": [
    "df.plot(kind='barh', y='2019 год', color='blue')\n",
    "plt.show()"
   ]
  },
  {
   "cell_type": "markdown",
   "metadata": {
    "id": "AQsi5tmzKp8S"
   },
   "source": [
    "**Объединение данных на одном графике**\n",
    "\n",
    "У нас есть отдельный график для 2018 и 2019 года, но как их объединить в одной диаграмме? Очень просто, нужно использовать метод pivot из библиотеки **pandas**.\n"
   ]
  },
  {
   "cell_type": "code",
   "execution_count": 55,
   "metadata": {
    "colab": {
     "base_uri": "https://localhost:8080/",
     "height": 0
    },
    "id": "WYgb4ge8Kv3W",
    "outputId": "437f2e9c-7d7b-4f90-f274-b562f9ca1308"
   },
   "outputs": [
    {
     "data": {
      "image/png": "[encoded data removed]",
      "text/plain": [
       "<Figure size 640x480 with 1 Axes>"
      ]
     },
     "metadata": {},
     "output_type": "display_data"
    }
   ],
   "source": [
    "df.pivot(columns=\"Страна\").plot(kind='bar')\n",
    "plt.show()\n"
   ]
  },
  {
   "cell_type": "markdown",
   "metadata": {
    "id": "GdoLIRENW0iB"
   },
   "source": [
    "# Автоматизация выбора данных (парсинг)"
   ]
  },
  {
   "cell_type": "code",
   "execution_count": 56,
   "metadata": {
    "id": "NFhr0U3RW7Pd"
   },
   "outputs": [],
   "source": [
    "import pandas as pd\n",
    "import numpy as np\n",
    "import matplotlib.pyplot as plt\n",
    "from unicodedata import normalize"
   ]
  },
  {
   "cell_type": "markdown",
   "metadata": {
    "id": "FMXjWvl1Xuqb"
   },
   "source": [
    "**ИЗВЛЕЧЕНИЕ ТАБЛИЦ**\n",
    "\n",
    "Вызовем функцию read_html, передав аргументом ссылку на страницу. "
   ]
  },
  {
   "cell_type": "code",
   "execution_count": 57,
   "metadata": {
    "id": "b9EqjE84XVz9"
   },
   "outputs": [],
   "source": [
    "# Список стран по ВВП (номинал)\n",
    "tables = pd.read_html(\n",
    "    'https://ru.wikipedia.org/wiki/%D0%A1%D0%BF%D0%B8%D1%81%D0%BE%D0%BA_%D1%81%D1%82%D1%80%D0%B0%D0%BD_%D0%BF%D0%BE_%D0%92%D0%92%D0%9F_(%D0%BD%D0%BE%D0%BC%D0%B8%D0%BD%D0%B0%D0%BB)',\n",
    "    match='Страна')"
   ]
  },
  {
   "cell_type": "code",
   "execution_count": 58,
   "metadata": {
    "colab": {
     "base_uri": "https://localhost:8080/"
    },
    "id": "CNptnEmVXbdE",
    "outputId": "5eb568cd-14d5-48b5-9ab0-39391b5f9f48"
   },
   "outputs": [
    {
     "data": {
      "text/plain": [
       "4"
      ]
     },
     "execution_count": 58,
     "metadata": {},
     "output_type": "execute_result"
    }
   ],
   "source": [
    "len(tables)"
   ]
  },
  {
   "cell_type": "code",
   "execution_count": 59,
   "metadata": {
    "colab": {
     "base_uri": "https://localhost:8080/",
     "height": 423
    },
    "id": "znIy_Ld-X0hT",
    "outputId": "0cbae372-9e7d-49e3-834e-82f7a0750e74"
   },
   "outputs": [
    {
     "data": {
      "text/html": [
       "<div>\n",
       "<style scoped>\n",
       "    .dataframe tbody tr th:only-of-type {\n",
       "        vertical-align: middle;\n",
       "    }\n",
       "\n",
       "    .dataframe tbody tr th {\n",
       "        vertical-align: top;\n",
       "    }\n",
       "\n",
       "    .dataframe thead th {\n",
       "        text-align: right;\n",
       "    }\n",
       "</style>\n",
       "<table border=\"1\" class=\"dataframe\">\n",
       "  <thead>\n",
       "    <tr style=\"text-align: right;\">\n",
       "      <th></th>\n",
       "      <th>№</th>\n",
       "      <th>Страна</th>\n",
       "      <th>2018</th>\n",
       "      <th>2019</th>\n",
       "    </tr>\n",
       "  </thead>\n",
       "  <tbody>\n",
       "    <tr>\n",
       "      <th>0</th>\n",
       "      <td>1</td>\n",
       "      <td>США</td>\n",
       "      <td>20612</td>\n",
       "      <td>21433</td>\n",
       "    </tr>\n",
       "    <tr>\n",
       "      <th>1</th>\n",
       "      <td>2</td>\n",
       "      <td>Китай</td>\n",
       "      <td>13842</td>\n",
       "      <td>14402</td>\n",
       "    </tr>\n",
       "    <tr>\n",
       "      <th>2</th>\n",
       "      <td>3</td>\n",
       "      <td>Япония</td>\n",
       "      <td>4952</td>\n",
       "      <td>5080</td>\n",
       "    </tr>\n",
       "    <tr>\n",
       "      <th>3</th>\n",
       "      <td>4</td>\n",
       "      <td>Германия</td>\n",
       "      <td>3966</td>\n",
       "      <td>3862</td>\n",
       "    </tr>\n",
       "    <tr>\n",
       "      <th>4</th>\n",
       "      <td>5</td>\n",
       "      <td>Индия</td>\n",
       "      <td>2713</td>\n",
       "      <td>2869</td>\n",
       "    </tr>\n",
       "    <tr>\n",
       "      <th>...</th>\n",
       "      <td>...</td>\n",
       "      <td>...</td>\n",
       "      <td>...</td>\n",
       "      <td>...</td>\n",
       "    </tr>\n",
       "    <tr>\n",
       "      <th>188</th>\n",
       "      <td>183</td>\n",
       "      <td>Маршалловы Острова</td>\n",
       "      <td>22</td>\n",
       "      <td>23</td>\n",
       "    </tr>\n",
       "    <tr>\n",
       "      <th>189</th>\n",
       "      <td>184</td>\n",
       "      <td>Кирибати</td>\n",
       "      <td>2</td>\n",
       "      <td>2</td>\n",
       "    </tr>\n",
       "    <tr>\n",
       "      <th>190</th>\n",
       "      <td>185</td>\n",
       "      <td>Науру</td>\n",
       "      <td>12</td>\n",
       "      <td>12</td>\n",
       "    </tr>\n",
       "    <tr>\n",
       "      <th>191</th>\n",
       "      <td>186</td>\n",
       "      <td>Тувалу</td>\n",
       "      <td>5</td>\n",
       "      <td>5</td>\n",
       "    </tr>\n",
       "    <tr>\n",
       "      <th>192</th>\n",
       "      <td>NaN</td>\n",
       "      <td>Всего в мире</td>\n",
       "      <td>85690</td>\n",
       "      <td>87552</td>\n",
       "    </tr>\n",
       "  </tbody>\n",
       "</table>\n",
       "<p>193 rows × 4 columns</p>\n",
       "</div>"
      ],
      "text/plain": [
       "       №              Страна   2018   2019\n",
       "0      1                 США  20612  21433\n",
       "1      2               Китай  13842  14402\n",
       "2      3              Япония   4952   5080\n",
       "3      4            Германия   3966   3862\n",
       "4      5               Индия   2713   2869\n",
       "..   ...                 ...    ...    ...\n",
       "188  183  Маршалловы Острова     22     23\n",
       "189  184            Кирибати      2      2\n",
       "190  185               Науру     12     12\n",
       "191  186              Тувалу      5      5\n",
       "192  NaN        Всего в мире  85690  87552\n",
       "\n",
       "[193 rows x 4 columns]"
      ]
     },
     "execution_count": 59,
     "metadata": {},
     "output_type": "execute_result"
    }
   ],
   "source": [
    "df = tables[1]\n",
    "df"
   ]
  },
  {
   "cell_type": "code",
   "execution_count": 60,
   "metadata": {
    "colab": {
     "base_uri": "https://localhost:8080/",
     "height": 502
    },
    "id": "pHnNh8M8PP2y",
    "outputId": "189cf3d0-16d5-4aa8-cd6d-86fb19eefc22"
   },
   "outputs": [
    {
     "data": {
      "text/html": [
       "<div>\n",
       "<style scoped>\n",
       "    .dataframe tbody tr th:only-of-type {\n",
       "        vertical-align: middle;\n",
       "    }\n",
       "\n",
       "    .dataframe tbody tr th {\n",
       "        vertical-align: top;\n",
       "    }\n",
       "\n",
       "    .dataframe thead th {\n",
       "        text-align: right;\n",
       "    }\n",
       "</style>\n",
       "<table border=\"1\" class=\"dataframe\">\n",
       "  <thead>\n",
       "    <tr style=\"text-align: right;\">\n",
       "      <th></th>\n",
       "      <th>0</th>\n",
       "      <th>1</th>\n",
       "      <th>2</th>\n",
       "      <th>3</th>\n",
       "      <th>4</th>\n",
       "    </tr>\n",
       "  </thead>\n",
       "  <tbody>\n",
       "    <tr>\n",
       "      <th>0</th>\n",
       "      <td>Список МВФ[1] № Страна 2018 2019 1  США 20612 ...</td>\n",
       "      <td>0</td>\n",
       "      <td>Список ВБ[3] № Страна 2018 2019 1  США 20580 2...</td>\n",
       "      <td>0.0</td>\n",
       "      <td>Список ООН[4] № Страна 2018 1  США 20580 2  Ки...</td>\n",
       "    </tr>\n",
       "    <tr>\n",
       "      <th>1</th>\n",
       "      <td>№</td>\n",
       "      <td>Страна</td>\n",
       "      <td>2018</td>\n",
       "      <td>2019.0</td>\n",
       "      <td>NaN</td>\n",
       "    </tr>\n",
       "    <tr>\n",
       "      <th>2</th>\n",
       "      <td>1</td>\n",
       "      <td>США</td>\n",
       "      <td>20612</td>\n",
       "      <td>21433.0</td>\n",
       "      <td>NaN</td>\n",
       "    </tr>\n",
       "    <tr>\n",
       "      <th>3</th>\n",
       "      <td>2</td>\n",
       "      <td>Китай</td>\n",
       "      <td>13842</td>\n",
       "      <td>14402.0</td>\n",
       "      <td>NaN</td>\n",
       "    </tr>\n",
       "    <tr>\n",
       "      <th>4</th>\n",
       "      <td>3</td>\n",
       "      <td>Япония</td>\n",
       "      <td>4952</td>\n",
       "      <td>5080.0</td>\n",
       "      <td>NaN</td>\n",
       "    </tr>\n",
       "    <tr>\n",
       "      <th>...</th>\n",
       "      <td>...</td>\n",
       "      <td>...</td>\n",
       "      <td>...</td>\n",
       "      <td>...</td>\n",
       "      <td>...</td>\n",
       "    </tr>\n",
       "    <tr>\n",
       "      <th>621</th>\n",
       "      <td>193</td>\n",
       "      <td>Науру</td>\n",
       "      <td>018</td>\n",
       "      <td>NaN</td>\n",
       "      <td>NaN</td>\n",
       "    </tr>\n",
       "    <tr>\n",
       "      <th>622</th>\n",
       "      <td>194</td>\n",
       "      <td>Кирибати</td>\n",
       "      <td>018</td>\n",
       "      <td>NaN</td>\n",
       "      <td>NaN</td>\n",
       "    </tr>\n",
       "    <tr>\n",
       "      <th>623</th>\n",
       "      <td>—</td>\n",
       "      <td>Монтсеррат (Великобритания)</td>\n",
       "      <td>006</td>\n",
       "      <td>NaN</td>\n",
       "      <td>NaN</td>\n",
       "    </tr>\n",
       "    <tr>\n",
       "      <th>624</th>\n",
       "      <td>195</td>\n",
       "      <td>Тувалу</td>\n",
       "      <td>004</td>\n",
       "      <td>NaN</td>\n",
       "      <td>NaN</td>\n",
       "    </tr>\n",
       "    <tr>\n",
       "      <th>625</th>\n",
       "      <td>NaN</td>\n",
       "      <td>Всего в мире</td>\n",
       "      <td>75130</td>\n",
       "      <td>NaN</td>\n",
       "      <td>NaN</td>\n",
       "    </tr>\n",
       "  </tbody>\n",
       "</table>\n",
       "<p>626 rows × 5 columns</p>\n",
       "</div>"
      ],
      "text/plain": [
       "                                                     0  \\\n",
       "0    Список МВФ[1] № Страна 2018 2019 1  США 20612 ...   \n",
       "1                                                    №   \n",
       "2                                                    1   \n",
       "3                                                    2   \n",
       "4                                                    3   \n",
       "..                                                 ...   \n",
       "621                                                193   \n",
       "622                                                194   \n",
       "623                                                  —   \n",
       "624                                                195   \n",
       "625                                                NaN   \n",
       "\n",
       "                               1  \\\n",
       "0                              0   \n",
       "1                         Страна   \n",
       "2                            США   \n",
       "3                          Китай   \n",
       "4                         Япония   \n",
       "..                           ...   \n",
       "621                        Науру   \n",
       "622                     Кирибати   \n",
       "623  Монтсеррат (Великобритания)   \n",
       "624                       Тувалу   \n",
       "625                 Всего в мире   \n",
       "\n",
       "                                                     2        3  \\\n",
       "0    Список ВБ[3] № Страна 2018 2019 1  США 20580 2...      0.0   \n",
       "1                                                 2018   2019.0   \n",
       "2                                                20612  21433.0   \n",
       "3                                                13842  14402.0   \n",
       "4                                                 4952   5080.0   \n",
       "..                                                 ...      ...   \n",
       "621                                                018      NaN   \n",
       "622                                                018      NaN   \n",
       "623                                                006      NaN   \n",
       "624                                                004      NaN   \n",
       "625                                              75130      NaN   \n",
       "\n",
       "                                                     4  \n",
       "0    Список ООН[4] № Страна 2018 1  США 20580 2  Ки...  \n",
       "1                                                  NaN  \n",
       "2                                                  NaN  \n",
       "3                                                  NaN  \n",
       "4                                                  NaN  \n",
       "..                                                 ...  \n",
       "621                                                NaN  \n",
       "622                                                NaN  \n",
       "623                                                NaN  \n",
       "624                                                NaN  \n",
       "625                                                NaN  \n",
       "\n",
       "[626 rows x 5 columns]"
      ]
     },
     "execution_count": 60,
     "metadata": {},
     "output_type": "execute_result"
    }
   ],
   "source": [
    "df1 = tables[0]\n",
    "df1"
   ]
  },
  {
   "cell_type": "markdown",
   "metadata": {
    "id": "M5APDdgWYmqp"
   },
   "source": [
    "**ОБРАБАТЫВАЕМ ТАБЛИЦЫ**\n",
    "\n",
    "В первую очередь избавимся от лишнего столбца, вызвав метод drop. "
   ]
  },
  {
   "cell_type": "code",
   "execution_count": 61,
   "metadata": {
    "id": "9edsTjCiYoZN"
   },
   "outputs": [],
   "source": [
    "df.drop(('№'), axis=1, inplace=True)"
   ]
  },
  {
   "cell_type": "code",
   "execution_count": 62,
   "metadata": {
    "colab": {
     "base_uri": "https://localhost:8080/",
     "height": 423
    },
    "id": "EqJ6KxtxZ1pU",
    "outputId": "9a006d0e-f359-4c80-c053-d2304bf1aed1"
   },
   "outputs": [
    {
     "data": {
      "text/html": [
       "<div>\n",
       "<style scoped>\n",
       "    .dataframe tbody tr th:only-of-type {\n",
       "        vertical-align: middle;\n",
       "    }\n",
       "\n",
       "    .dataframe tbody tr th {\n",
       "        vertical-align: top;\n",
       "    }\n",
       "\n",
       "    .dataframe thead th {\n",
       "        text-align: right;\n",
       "    }\n",
       "</style>\n",
       "<table border=\"1\" class=\"dataframe\">\n",
       "  <thead>\n",
       "    <tr style=\"text-align: right;\">\n",
       "      <th></th>\n",
       "      <th>Страна</th>\n",
       "      <th>2018</th>\n",
       "      <th>2019</th>\n",
       "    </tr>\n",
       "  </thead>\n",
       "  <tbody>\n",
       "    <tr>\n",
       "      <th>0</th>\n",
       "      <td>США</td>\n",
       "      <td>20612</td>\n",
       "      <td>21433</td>\n",
       "    </tr>\n",
       "    <tr>\n",
       "      <th>1</th>\n",
       "      <td>Китай</td>\n",
       "      <td>13842</td>\n",
       "      <td>14402</td>\n",
       "    </tr>\n",
       "    <tr>\n",
       "      <th>2</th>\n",
       "      <td>Япония</td>\n",
       "      <td>4952</td>\n",
       "      <td>5080</td>\n",
       "    </tr>\n",
       "    <tr>\n",
       "      <th>3</th>\n",
       "      <td>Германия</td>\n",
       "      <td>3966</td>\n",
       "      <td>3862</td>\n",
       "    </tr>\n",
       "    <tr>\n",
       "      <th>4</th>\n",
       "      <td>Индия</td>\n",
       "      <td>2713</td>\n",
       "      <td>2869</td>\n",
       "    </tr>\n",
       "    <tr>\n",
       "      <th>...</th>\n",
       "      <td>...</td>\n",
       "      <td>...</td>\n",
       "      <td>...</td>\n",
       "    </tr>\n",
       "    <tr>\n",
       "      <th>188</th>\n",
       "      <td>Маршалловы Острова</td>\n",
       "      <td>22</td>\n",
       "      <td>23</td>\n",
       "    </tr>\n",
       "    <tr>\n",
       "      <th>189</th>\n",
       "      <td>Кирибати</td>\n",
       "      <td>2</td>\n",
       "      <td>2</td>\n",
       "    </tr>\n",
       "    <tr>\n",
       "      <th>190</th>\n",
       "      <td>Науру</td>\n",
       "      <td>12</td>\n",
       "      <td>12</td>\n",
       "    </tr>\n",
       "    <tr>\n",
       "      <th>191</th>\n",
       "      <td>Тувалу</td>\n",
       "      <td>5</td>\n",
       "      <td>5</td>\n",
       "    </tr>\n",
       "    <tr>\n",
       "      <th>192</th>\n",
       "      <td>Всего в мире</td>\n",
       "      <td>85690</td>\n",
       "      <td>87552</td>\n",
       "    </tr>\n",
       "  </tbody>\n",
       "</table>\n",
       "<p>193 rows × 3 columns</p>\n",
       "</div>"
      ],
      "text/plain": [
       "                 Страна   2018   2019\n",
       "0                   США  20612  21433\n",
       "1                 Китай  13842  14402\n",
       "2                Япония   4952   5080\n",
       "3              Германия   3966   3862\n",
       "4                 Индия   2713   2869\n",
       "..                  ...    ...    ...\n",
       "188  Маршалловы Острова     22     23\n",
       "189            Кирибати      2      2\n",
       "190               Науру     12     12\n",
       "191              Тувалу      5      5\n",
       "192        Всего в мире  85690  87552\n",
       "\n",
       "[193 rows x 3 columns]"
      ]
     },
     "execution_count": 62,
     "metadata": {},
     "output_type": "execute_result"
    }
   ],
   "source": [
    "df"
   ]
  },
  {
   "cell_type": "code",
   "execution_count": 63,
   "metadata": {
    "colab": {
     "base_uri": "https://localhost:8080/"
    },
    "id": "URG4V7T3drUT",
    "outputId": "36ac19a7-ee0a-477a-9d73-a5b3bbc66044"
   },
   "outputs": [
    {
     "name": "stdout",
     "output_type": "stream",
     "text": [
      "                       Страна   2018   2019\n",
      "0                         США  20612  21433\n",
      "1                       Китай  13842  14402\n",
      "2                      Япония   4952   5080\n",
      "3                    Германия   3966   3862\n",
      "4                       Индия   2713   2869\n",
      "5              Великобритания   2864   2831\n",
      "6                     Франция   2789   2716\n",
      "7                      Италия   2087   2001\n",
      "8                    Бразилия   1885   1839\n",
      "9                      Канада   1716   1736\n",
      "10                     Россия   1665   1702\n",
      "11           Республика Корея   1725   1647\n",
      "12                    Испания   1420   1394\n",
      "13                  Австралия   1421   1387\n",
      "14                    Мексика   1222   1258\n",
      "15                  Индонезия   1042   1120\n",
      "16                 Нидерланды    914    907\n",
      "17          Саудовская Аравия    787    793\n",
      "18                     Турция    780    761\n",
      "19                  Швейцария    706    705\n",
      "20                    Тайвань    608    611\n",
      "21                     Польша    587    592\n",
      "22                       Иран    435    583\n",
      "23                    Таиланд    506    544\n",
      "24                     Швеция    555    530\n",
      "25                    Бельгия    543    529\n",
      "26                    Нигерия    398    448\n",
      "27                    Австрия    456    446\n",
      "28                  Аргентина    517    444\n",
      "29                        ОАЭ    422    421\n",
      "30                   Норвегия    434    403\n",
      "31                   Ирландия    387    398\n",
      "32                    Израиль    370    394\n",
      "33                  Филиппины    347    377\n",
      "34                   Сингапур    373    372\n",
      "35              Гонконг (КНР)    362    366\n",
      "36                   Малайзия    359    365\n",
      "37                        ЮАР    368    351\n",
      "38                      Дания    356    347\n",
      "39                    Вьетнам    304    330\n",
      "40                   Колумбия    333    324\n",
      "41                  Бангладеш    274    303\n",
      "42                     Египет    250    302\n",
      "43                       Чили    298    282\n",
      "44                   Пакистан    313    276\n",
      "45                  Финляндия    276    269\n",
      "46                      Чехия    249    251\n",
      "47                    Румыния    242    250\n",
      "48                 Португалия    241    238\n",
      "49                       Перу    225    231\n",
      "50                       Ирак    226    230\n",
      "51                     Греция    218    210\n",
      "52             Новая Зеландия    207    205\n",
      "53                  Казахстан    179    182\n",
      "54                      Катар    183    176\n",
      "55                      Алжир    174    169\n",
      "56                    Венгрия    158    161\n",
      "57                 Украина[2]    131    154\n",
      "58                     Кувейт    141    135\n",
      "59                    Марокко    118    119\n",
      "60                    Эквадор    108    107\n",
      "61                   Словакия    106    105\n",
      "62                Пуэрто-Рико    101    103\n",
      "63                      Кения    878    954\n",
      "64                    Эфиопия    802    928\n",
      "65                     Ангола    106    894\n",
      "66   Доминиканская Республика    856    890\n",
      "67                  Шри-Ланка    884    840\n",
      "68                  Гватемала    731    767\n",
      "69                       Оман    798    764\n",
      "70                 Люксембург    710    711\n",
      "71                     Мьянма    667    686\n",
      "72                   Болгария    663    679\n",
      "73                       Гана    655    670\n",
      "74                     Панама    651    668\n",
      "75                  Венесуэла    984    640\n",
      "76                 Белоруссия    600    630\n",
      "77                 Коста-Рика    609    621\n",
      "78                   Хорватия    610    604\n",
      "79                   Танзания    567    608\n",
      "80                Кот-д’Ивуар    577    586\n",
      "81                 Узбекистан    504    580\n",
      "82                    Уругвай    598    567\n",
      "83                      Литва    535    542\n",
      "84                Макао (КНР)    551    539\n",
      "85                   Словения    541    537\n",
      "86                      Ливан    550    526\n",
      "87                     Сербия    506    514\n",
      "88                   ДР Конго    471    498\n",
      "89                Азербайджан    471    480\n",
      "90               Туркменистан    407    452\n",
      "91                   Иордания    430    446\n",
      "92                    Боливия    406    412\n",
      "93                      Ливия    414    398\n",
      "94                    Камерун    387    389\n",
      "95                      Тунис    397    388\n",
      "96                    Бахрейн    377    386\n",
      "97                   Парагвай    404    374\n",
      "98                     Уганда    338    365\n",
      "99                     Латвия    343    341\n",
      "100                     Судан    357    334\n",
      "101                   Эстония    307    315\n",
      "102                     Непал    290    307\n",
      "103                 Сальвадор    261    270\n",
      "104                  Камбоджа    244    267\n",
      "105                  Гондурас    214    250\n",
      "106      Папуа — Новая Гвинея    240    248\n",
      "107                      Кипр    250    246\n",
      "108                  Исландия    257    242\n",
      "109                    Замбия    270    241\n",
      "110         Тринидад и Тобаго    238    241\n",
      "111                   Сенегал    238    236\n",
      "112                     Йемен    235    226\n",
      "113      Босния и Герцеговина    201    199\n",
      "114                      Лаос    181    191\n",
      "115                Афганистан    184    189\n",
      "116                  Зимбабве    208    187\n",
      "117                  Ботсвана    187    185\n",
      "118                      Мали    170    173\n",
      "119                    Грузия    176    177\n",
      "120                     Габон    169    169\n",
      "121                    Ямайка    156    159\n",
      "122              Буркина-Фасо    162    157\n",
      "123                   Албания    151    153\n",
      "124                  Мозамбик    147    152\n",
      "125                    Мальта    147    150\n",
      "126                     Бенин    143    144\n",
      "127                Мадагаскар    139    141\n",
      "128                  Маврикий    141    140\n",
      "129                  Монголия    131    139\n",
      "130                    Гвинея    122    138\n",
      "131                   Армения    125    137\n",
      "132         Багамские Острова    130    136\n",
      "133                    Бруней    136    135\n",
      "134        Северная Македония    126    127\n",
      "135                     Нигер    129    129\n",
      "136                 Никарагуа    130    125\n",
      "137                   Намибия    136    125\n",
      "138          Республика Конго    134    125\n",
      "139                  Молдавия    113    120\n",
      "140     Экваториальная Гвинея    136    118\n",
      "141                       Чад    110    110\n",
      "142                    Руанда    963    101\n",
      "143                     Гаити    966    870\n",
      "144                  Киргизия    827    846\n",
      "145               Таджикистан    752    812\n",
      "146         Республика Косово    795    797\n",
      "147                    Малави    691    767\n",
      "148                Мавритания    705     76\n",
      "149                  Мальдивы    532    576\n",
      "150                      Того    536    546\n",
      "151                     Фиджи    554    541\n",
      "152                  Барбадос    509    521\n",
      "153                    Гайана    479    517\n",
      "154                Черногория    551     50\n",
      "155               Южный Судан    466    493\n",
      "156                  Эсватини    471    459\n",
      "157              Сьерра-Леоне    409    421\n",
      "158                   Суринам    347     37\n",
      "159                   Джибути    301    335\n",
      "160                   Либерия    326    318\n",
      "161                   Бурунди    319    311\n",
      "162        Аруба (Нидерланды)    282    289\n",
      "163                     Бутан    251     25\n",
      "164                    Лесото    247    242\n",
      "165                       ЦАР    228    228\n",
      "166                Сент-Люсия    207    212\n",
      "167                   Эритрея    201    198\n",
      "168                Кабо-Верде    197    198\n",
      "169                     Белиз    187    184\n",
      "170                    Гамбия    166    181\n",
      "171         Антигуа и Барбуда    161    166\n",
      "172       Сейшельские Острова    158    165\n",
      "173           Восточный Тимор    157    162\n",
      "174                Сан-Марино    166     16\n",
      "175        Соломоновы Острова    159     16\n",
      "176              Гвинея-Бисау    151    144\n",
      "177                   Гренада    117    122\n",
      "178                    Коморы    118    119\n",
      "179         Сент-Китс и Невис    101    107\n",
      "180                   Вануату     93     93\n",
      "181                     Самоа     84     85\n",
      "182  Сент-Винсент и Гренадины     81     82\n",
      "183                  Доминика     53     59\n",
      "184                     Тонга     49     52\n",
      "185       Сан-Томе и Принсипи     42     42\n",
      "186                Микронезия     40     41\n",
      "187                     Палау     29     28\n",
      "188        Маршалловы Острова     22     23\n",
      "189                  Кирибати      2      2\n",
      "190                     Науру     12     12\n",
      "191                    Тувалу      5      5\n",
      "192              Всего в мире  85690  87552\n"
     ]
    }
   ],
   "source": [
    "print(df.to_string())"
   ]
  },
  {
   "cell_type": "markdown",
   "metadata": {
    "id": "JYSSaXsyauAn"
   },
   "source": [
    "Кроме того, следует убрать источники, заключённые в квадратные скобки. Для этого мы воспользуемся методом replace, указав регулярное выражение и **regex=True**. Теперь таблица выглядит более приемлемо."
   ]
  },
  {
   "cell_type": "code",
   "execution_count": 64,
   "metadata": {
    "id": "fxxODcdjawMg"
   },
   "outputs": [],
   "source": [
    "df.replace({'\\[[0-9]+\\]': ''}, regex=True, inplace=True)"
   ]
  },
  {
   "cell_type": "code",
   "execution_count": 65,
   "metadata": {
    "colab": {
     "base_uri": "https://localhost:8080/"
    },
    "id": "dFl7RJpjeXWQ",
    "outputId": "1e2c4ef7-d64d-463b-a12d-162a943a7b39"
   },
   "outputs": [
    {
     "name": "stdout",
     "output_type": "stream",
     "text": [
      "                       Страна   2018   2019\n",
      "0                         США  20612  21433\n",
      "1                       Китай  13842  14402\n",
      "2                      Япония   4952   5080\n",
      "3                    Германия   3966   3862\n",
      "4                       Индия   2713   2869\n",
      "5              Великобритания   2864   2831\n",
      "6                     Франция   2789   2716\n",
      "7                      Италия   2087   2001\n",
      "8                    Бразилия   1885   1839\n",
      "9                      Канада   1716   1736\n",
      "10                     Россия   1665   1702\n",
      "11           Республика Корея   1725   1647\n",
      "12                    Испания   1420   1394\n",
      "13                  Австралия   1421   1387\n",
      "14                    Мексика   1222   1258\n",
      "15                  Индонезия   1042   1120\n",
      "16                 Нидерланды    914    907\n",
      "17          Саудовская Аравия    787    793\n",
      "18                     Турция    780    761\n",
      "19                  Швейцария    706    705\n",
      "20                    Тайвань    608    611\n",
      "21                     Польша    587    592\n",
      "22                       Иран    435    583\n",
      "23                    Таиланд    506    544\n",
      "24                     Швеция    555    530\n",
      "25                    Бельгия    543    529\n",
      "26                    Нигерия    398    448\n",
      "27                    Австрия    456    446\n",
      "28                  Аргентина    517    444\n",
      "29                        ОАЭ    422    421\n",
      "30                   Норвегия    434    403\n",
      "31                   Ирландия    387    398\n",
      "32                    Израиль    370    394\n",
      "33                  Филиппины    347    377\n",
      "34                   Сингапур    373    372\n",
      "35              Гонконг (КНР)    362    366\n",
      "36                   Малайзия    359    365\n",
      "37                        ЮАР    368    351\n",
      "38                      Дания    356    347\n",
      "39                    Вьетнам    304    330\n",
      "40                   Колумбия    333    324\n",
      "41                  Бангладеш    274    303\n",
      "42                     Египет    250    302\n",
      "43                       Чили    298    282\n",
      "44                   Пакистан    313    276\n",
      "45                  Финляндия    276    269\n",
      "46                      Чехия    249    251\n",
      "47                    Румыния    242    250\n",
      "48                 Португалия    241    238\n",
      "49                       Перу    225    231\n",
      "50                       Ирак    226    230\n",
      "51                     Греция    218    210\n",
      "52             Новая Зеландия    207    205\n",
      "53                  Казахстан    179    182\n",
      "54                      Катар    183    176\n",
      "55                      Алжир    174    169\n",
      "56                    Венгрия    158    161\n",
      "57                    Украина    131    154\n",
      "58                     Кувейт    141    135\n",
      "59                    Марокко    118    119\n",
      "60                    Эквадор    108    107\n",
      "61                   Словакия    106    105\n",
      "62                Пуэрто-Рико    101    103\n",
      "63                      Кения    878    954\n",
      "64                    Эфиопия    802    928\n",
      "65                     Ангола    106    894\n",
      "66   Доминиканская Республика    856    890\n",
      "67                  Шри-Ланка    884    840\n",
      "68                  Гватемала    731    767\n",
      "69                       Оман    798    764\n",
      "70                 Люксембург    710    711\n",
      "71                     Мьянма    667    686\n",
      "72                   Болгария    663    679\n",
      "73                       Гана    655    670\n",
      "74                     Панама    651    668\n",
      "75                  Венесуэла    984    640\n",
      "76                 Белоруссия    600    630\n",
      "77                 Коста-Рика    609    621\n",
      "78                   Хорватия    610    604\n",
      "79                   Танзания    567    608\n",
      "80                Кот-д’Ивуар    577    586\n",
      "81                 Узбекистан    504    580\n",
      "82                    Уругвай    598    567\n",
      "83                      Литва    535    542\n",
      "84                Макао (КНР)    551    539\n",
      "85                   Словения    541    537\n",
      "86                      Ливан    550    526\n",
      "87                     Сербия    506    514\n",
      "88                   ДР Конго    471    498\n",
      "89                Азербайджан    471    480\n",
      "90               Туркменистан    407    452\n",
      "91                   Иордания    430    446\n",
      "92                    Боливия    406    412\n",
      "93                      Ливия    414    398\n",
      "94                    Камерун    387    389\n",
      "95                      Тунис    397    388\n",
      "96                    Бахрейн    377    386\n",
      "97                   Парагвай    404    374\n",
      "98                     Уганда    338    365\n",
      "99                     Латвия    343    341\n",
      "100                     Судан    357    334\n",
      "101                   Эстония    307    315\n",
      "102                     Непал    290    307\n",
      "103                 Сальвадор    261    270\n",
      "104                  Камбоджа    244    267\n",
      "105                  Гондурас    214    250\n",
      "106      Папуа — Новая Гвинея    240    248\n",
      "107                      Кипр    250    246\n",
      "108                  Исландия    257    242\n",
      "109                    Замбия    270    241\n",
      "110         Тринидад и Тобаго    238    241\n",
      "111                   Сенегал    238    236\n",
      "112                     Йемен    235    226\n",
      "113      Босния и Герцеговина    201    199\n",
      "114                      Лаос    181    191\n",
      "115                Афганистан    184    189\n",
      "116                  Зимбабве    208    187\n",
      "117                  Ботсвана    187    185\n",
      "118                      Мали    170    173\n",
      "119                    Грузия    176    177\n",
      "120                     Габон    169    169\n",
      "121                    Ямайка    156    159\n",
      "122              Буркина-Фасо    162    157\n",
      "123                   Албания    151    153\n",
      "124                  Мозамбик    147    152\n",
      "125                    Мальта    147    150\n",
      "126                     Бенин    143    144\n",
      "127                Мадагаскар    139    141\n",
      "128                  Маврикий    141    140\n",
      "129                  Монголия    131    139\n",
      "130                    Гвинея    122    138\n",
      "131                   Армения    125    137\n",
      "132         Багамские Острова    130    136\n",
      "133                    Бруней    136    135\n",
      "134        Северная Македония    126    127\n",
      "135                     Нигер    129    129\n",
      "136                 Никарагуа    130    125\n",
      "137                   Намибия    136    125\n",
      "138          Республика Конго    134    125\n",
      "139                  Молдавия    113    120\n",
      "140     Экваториальная Гвинея    136    118\n",
      "141                       Чад    110    110\n",
      "142                    Руанда    963    101\n",
      "143                     Гаити    966    870\n",
      "144                  Киргизия    827    846\n",
      "145               Таджикистан    752    812\n",
      "146         Республика Косово    795    797\n",
      "147                    Малави    691    767\n",
      "148                Мавритания    705     76\n",
      "149                  Мальдивы    532    576\n",
      "150                      Того    536    546\n",
      "151                     Фиджи    554    541\n",
      "152                  Барбадос    509    521\n",
      "153                    Гайана    479    517\n",
      "154                Черногория    551     50\n",
      "155               Южный Судан    466    493\n",
      "156                  Эсватини    471    459\n",
      "157              Сьерра-Леоне    409    421\n",
      "158                   Суринам    347     37\n",
      "159                   Джибути    301    335\n",
      "160                   Либерия    326    318\n",
      "161                   Бурунди    319    311\n",
      "162        Аруба (Нидерланды)    282    289\n",
      "163                     Бутан    251     25\n",
      "164                    Лесото    247    242\n",
      "165                       ЦАР    228    228\n",
      "166                Сент-Люсия    207    212\n",
      "167                   Эритрея    201    198\n",
      "168                Кабо-Верде    197    198\n",
      "169                     Белиз    187    184\n",
      "170                    Гамбия    166    181\n",
      "171         Антигуа и Барбуда    161    166\n",
      "172       Сейшельские Острова    158    165\n",
      "173           Восточный Тимор    157    162\n",
      "174                Сан-Марино    166     16\n",
      "175        Соломоновы Острова    159     16\n",
      "176              Гвинея-Бисау    151    144\n",
      "177                   Гренада    117    122\n",
      "178                    Коморы    118    119\n",
      "179         Сент-Китс и Невис    101    107\n",
      "180                   Вануату     93     93\n",
      "181                     Самоа     84     85\n",
      "182  Сент-Винсент и Гренадины     81     82\n",
      "183                  Доминика     53     59\n",
      "184                     Тонга     49     52\n",
      "185       Сан-Томе и Принсипи     42     42\n",
      "186                Микронезия     40     41\n",
      "187                     Палау     29     28\n",
      "188        Маршалловы Острова     22     23\n",
      "189                  Кирибати      2      2\n",
      "190                     Науру     12     12\n",
      "191                    Тувалу      5      5\n",
      "192              Всего в мире  85690  87552\n"
     ]
    }
   ],
   "source": [
    "print(df.to_string())"
   ]
  },
  {
   "cell_type": "code",
   "execution_count": 66,
   "metadata": {
    "colab": {
     "base_uri": "https://localhost:8080/",
     "height": 423
    },
    "id": "1YcE_BSubNpp",
    "outputId": "c50394f0-d1cb-46eb-aa1f-756c6d08b1e8"
   },
   "outputs": [
    {
     "data": {
      "text/html": [
       "<div>\n",
       "<style scoped>\n",
       "    .dataframe tbody tr th:only-of-type {\n",
       "        vertical-align: middle;\n",
       "    }\n",
       "\n",
       "    .dataframe tbody tr th {\n",
       "        vertical-align: top;\n",
       "    }\n",
       "\n",
       "    .dataframe thead th {\n",
       "        text-align: right;\n",
       "    }\n",
       "</style>\n",
       "<table border=\"1\" class=\"dataframe\">\n",
       "  <thead>\n",
       "    <tr style=\"text-align: right;\">\n",
       "      <th></th>\n",
       "      <th>Страна</th>\n",
       "      <th>2018</th>\n",
       "      <th>2019</th>\n",
       "    </tr>\n",
       "  </thead>\n",
       "  <tbody>\n",
       "    <tr>\n",
       "      <th>0</th>\n",
       "      <td>США</td>\n",
       "      <td>20612</td>\n",
       "      <td>21433</td>\n",
       "    </tr>\n",
       "    <tr>\n",
       "      <th>1</th>\n",
       "      <td>Китай</td>\n",
       "      <td>13842</td>\n",
       "      <td>14402</td>\n",
       "    </tr>\n",
       "    <tr>\n",
       "      <th>2</th>\n",
       "      <td>Япония</td>\n",
       "      <td>4952</td>\n",
       "      <td>5080</td>\n",
       "    </tr>\n",
       "    <tr>\n",
       "      <th>3</th>\n",
       "      <td>Германия</td>\n",
       "      <td>3966</td>\n",
       "      <td>3862</td>\n",
       "    </tr>\n",
       "    <tr>\n",
       "      <th>4</th>\n",
       "      <td>Индия</td>\n",
       "      <td>2713</td>\n",
       "      <td>2869</td>\n",
       "    </tr>\n",
       "    <tr>\n",
       "      <th>...</th>\n",
       "      <td>...</td>\n",
       "      <td>...</td>\n",
       "      <td>...</td>\n",
       "    </tr>\n",
       "    <tr>\n",
       "      <th>188</th>\n",
       "      <td>Маршалловы Острова</td>\n",
       "      <td>22</td>\n",
       "      <td>23</td>\n",
       "    </tr>\n",
       "    <tr>\n",
       "      <th>189</th>\n",
       "      <td>Кирибати</td>\n",
       "      <td>2</td>\n",
       "      <td>2</td>\n",
       "    </tr>\n",
       "    <tr>\n",
       "      <th>190</th>\n",
       "      <td>Науру</td>\n",
       "      <td>12</td>\n",
       "      <td>12</td>\n",
       "    </tr>\n",
       "    <tr>\n",
       "      <th>191</th>\n",
       "      <td>Тувалу</td>\n",
       "      <td>5</td>\n",
       "      <td>5</td>\n",
       "    </tr>\n",
       "    <tr>\n",
       "      <th>192</th>\n",
       "      <td>Всего в мире</td>\n",
       "      <td>85690</td>\n",
       "      <td>87552</td>\n",
       "    </tr>\n",
       "  </tbody>\n",
       "</table>\n",
       "<p>193 rows × 3 columns</p>\n",
       "</div>"
      ],
      "text/plain": [
       "                 Страна   2018   2019\n",
       "0                   США  20612  21433\n",
       "1                 Китай  13842  14402\n",
       "2                Япония   4952   5080\n",
       "3              Германия   3966   3862\n",
       "4                 Индия   2713   2869\n",
       "..                  ...    ...    ...\n",
       "188  Маршалловы Острова     22     23\n",
       "189            Кирибати      2      2\n",
       "190               Науру     12     12\n",
       "191              Тувалу      5      5\n",
       "192        Всего в мире  85690  87552\n",
       "\n",
       "[193 rows x 3 columns]"
      ]
     },
     "execution_count": 66,
     "metadata": {},
     "output_type": "execute_result"
    }
   ],
   "source": [
    "df"
   ]
  },
  {
   "cell_type": "markdown",
   "metadata": {
    "id": "gU5qOfTVbgJQ"
   },
   "source": [
    "Теперь отбросим нижний результирующий уровень"
   ]
  },
  {
   "cell_type": "code",
   "execution_count": 67,
   "metadata": {
    "colab": {
     "base_uri": "https://localhost:8080/",
     "height": 423
    },
    "id": "kkwAKFawbeX8",
    "outputId": "67f5432d-fb4e-4532-ff22-345f41c89319"
   },
   "outputs": [
    {
     "data": {
      "text/html": [
       "<div>\n",
       "<style scoped>\n",
       "    .dataframe tbody tr th:only-of-type {\n",
       "        vertical-align: middle;\n",
       "    }\n",
       "\n",
       "    .dataframe tbody tr th {\n",
       "        vertical-align: top;\n",
       "    }\n",
       "\n",
       "    .dataframe thead th {\n",
       "        text-align: right;\n",
       "    }\n",
       "</style>\n",
       "<table border=\"1\" class=\"dataframe\">\n",
       "  <thead>\n",
       "    <tr style=\"text-align: right;\">\n",
       "      <th></th>\n",
       "      <th>Страна</th>\n",
       "      <th>2018</th>\n",
       "      <th>2019</th>\n",
       "    </tr>\n",
       "  </thead>\n",
       "  <tbody>\n",
       "    <tr>\n",
       "      <th>0</th>\n",
       "      <td>США</td>\n",
       "      <td>20612</td>\n",
       "      <td>21433</td>\n",
       "    </tr>\n",
       "    <tr>\n",
       "      <th>1</th>\n",
       "      <td>Китай</td>\n",
       "      <td>13842</td>\n",
       "      <td>14402</td>\n",
       "    </tr>\n",
       "    <tr>\n",
       "      <th>2</th>\n",
       "      <td>Япония</td>\n",
       "      <td>4952</td>\n",
       "      <td>5080</td>\n",
       "    </tr>\n",
       "    <tr>\n",
       "      <th>3</th>\n",
       "      <td>Германия</td>\n",
       "      <td>3966</td>\n",
       "      <td>3862</td>\n",
       "    </tr>\n",
       "    <tr>\n",
       "      <th>4</th>\n",
       "      <td>Индия</td>\n",
       "      <td>2713</td>\n",
       "      <td>2869</td>\n",
       "    </tr>\n",
       "    <tr>\n",
       "      <th>...</th>\n",
       "      <td>...</td>\n",
       "      <td>...</td>\n",
       "      <td>...</td>\n",
       "    </tr>\n",
       "    <tr>\n",
       "      <th>187</th>\n",
       "      <td>Палау</td>\n",
       "      <td>29</td>\n",
       "      <td>28</td>\n",
       "    </tr>\n",
       "    <tr>\n",
       "      <th>188</th>\n",
       "      <td>Маршалловы Острова</td>\n",
       "      <td>22</td>\n",
       "      <td>23</td>\n",
       "    </tr>\n",
       "    <tr>\n",
       "      <th>189</th>\n",
       "      <td>Кирибати</td>\n",
       "      <td>2</td>\n",
       "      <td>2</td>\n",
       "    </tr>\n",
       "    <tr>\n",
       "      <th>190</th>\n",
       "      <td>Науру</td>\n",
       "      <td>12</td>\n",
       "      <td>12</td>\n",
       "    </tr>\n",
       "    <tr>\n",
       "      <th>191</th>\n",
       "      <td>Тувалу</td>\n",
       "      <td>5</td>\n",
       "      <td>5</td>\n",
       "    </tr>\n",
       "  </tbody>\n",
       "</table>\n",
       "<p>192 rows × 3 columns</p>\n",
       "</div>"
      ],
      "text/plain": [
       "                 Страна   2018   2019\n",
       "0                   США  20612  21433\n",
       "1                 Китай  13842  14402\n",
       "2                Япония   4952   5080\n",
       "3              Германия   3966   3862\n",
       "4                 Индия   2713   2869\n",
       "..                  ...    ...    ...\n",
       "187               Палау     29     28\n",
       "188  Маршалловы Острова     22     23\n",
       "189            Кирибати      2      2\n",
       "190               Науру     12     12\n",
       "191              Тувалу      5      5\n",
       "\n",
       "[192 rows x 3 columns]"
      ]
     },
     "execution_count": 67,
     "metadata": {},
     "output_type": "execute_result"
    }
   ],
   "source": [
    "df.drop(df.index[len(df)-1])"
   ]
  },
  {
   "cell_type": "code",
   "execution_count": 68,
   "metadata": {
    "colab": {
     "base_uri": "https://localhost:8080/"
    },
    "id": "hovwxu5Eetua",
    "outputId": "f6820bbc-c1bc-4d48-c69a-70e57b912f36"
   },
   "outputs": [],
   "source": [
    "#df.to_excel(\"countryALL.xlsx\",encoding='cp1251')"
   ]
  },
  {
   "cell_type": "code",
   "execution_count": 69,
   "metadata": {
    "colab": {
     "base_uri": "https://localhost:8080/",
     "height": 17
    },
    "id": "Gk0A11E3e6Uw",
    "outputId": "571db885-e60f-4f3a-c091-ee6581b57629"
   },
   "outputs": [],
   "source": [
    "#from google.colab import files\n",
    "\n",
    "#files.download('countryALL.xlsx')"
   ]
  },
  {
   "cell_type": "markdown",
   "metadata": {
    "id": "jel9jjQ1g0IN"
   },
   "source": [
    "# Импорт Фрейма в  MYsql"
   ]
  },
  {
   "cell_type": "markdown",
   "metadata": {
    "id": "hmlWd0s7g5ex"
   },
   "source": []
  },
  {
   "cell_type": "code",
   "execution_count": 70,
   "metadata": {
    "colab": {
     "base_uri": "https://localhost:8080/"
    },
    "id": "4lieANhCiCj_",
    "outputId": "4aa155d1-bcfb-4aef-8519-6b78d8fb73ee"
   },
   "outputs": [
    {
     "name": "stdout",
     "output_type": "stream",
     "text": [
      "Requirement already satisfied: mysql-connector-python in c:\\users\\malch\\anaconda3\\lib\\site-packages (8.0.33)\n",
      "Requirement already satisfied: protobuf<=3.20.3,>=3.11.0 in c:\\users\\malch\\anaconda3\\lib\\site-packages (from mysql-connector-python) (3.20.3)\n"
     ]
    }
   ],
   "source": [
    "#!pip install PyMySQL\n",
    "!pip install mysql-connector-python"
   ]
  },
  {
   "cell_type": "code",
   "execution_count": 71,
   "metadata": {
    "colab": {
     "base_uri": "https://localhost:8080/"
    },
    "id": "KDbplfIqblY4",
    "outputId": "fb5f0ecb-d0b8-45e6-db29-0d3a7edb76ee"
   },
   "outputs": [],
   "source": [
    "#!pip install sqlalchemy"
   ]
  },
  {
   "cell_type": "markdown",
   "metadata": {},
   "source": [
    "!pip install pymysql\n",
    "!pip install mysql-connector-python\n",
    "!pip install sqlalchemy"
   ]
  },
  {
   "cell_type": "code",
   "execution_count": 72,
   "metadata": {},
   "outputs": [],
   "source": [
    "import pymysql\n",
    "import sqlalchemy\n",
    "import mysql.connector"
   ]
  },
  {
   "cell_type": "code",
   "execution_count": 74,
   "metadata": {
    "colab": {
     "base_uri": "https://localhost:8080/",
     "height": 558
    },
    "id": "Ra9raiA1g5_q",
    "outputId": "adb93dcb-996f-40ce-ef3a-746f8833462d"
   },
   "outputs": [
    {
     "data": {
      "text/plain": [
       "193"
      ]
     },
     "execution_count": 74,
     "metadata": {},
     "output_type": "execute_result"
    }
   ],
   "source": [
    "# Import dataframe into MySQL\n",
    "import sqlalchemy\n",
    "database_username = 'root'\n",
    "database_password = ''\n",
    "database_ip       = 'localhost'\n",
    "database_name     = 'palinabd'\n",
    "database_connection = sqlalchemy.create_engine('mysql+mysqlconnector://{0}:{1}@{2}/{3}'.format(database_username, database_password, database_ip, database_name))\n",
    "df.to_sql(con=database_connection, name='table_test', if_exists='replace')"
   ]
  },
  {
   "attachments": {
    "2023-05-05_12-53-24.png": {
     "image/png": "[encoded data removed]"
    }
   },
   "cell_type": "markdown",
   "metadata": {},
   "source": [
    "![2023-05-05_12-53-24.png](attachment:2023-05-05_12-53-24.png)"
   ]
  }
 ],
 "metadata": {
  "colab": {
   "collapsed_sections": [
    "1VkXcRACpx5v",
    "1tWZhk-54IvM",
    "H4ICXJzFuMEp",
    "3yw6a8c4_BT_",
    "6Oh-511UIA1q",
    "GoQpt7SDKHAZ",
    "GdoLIRENW0iB",
    "jel9jjQ1g0IN"
   ],
   "provenance": []
  },
  "kernelspec": {
   "display_name": "Python 3 (ipykernel)",
   "language": "python",
   "name": "python3"
  },
  "language_info": {
   "codemirror_mode": {
    "name": "ipython",
    "version": 3
   },
   "file_extension": ".py",
   "mimetype": "text/x-python",
   "name": "python",
   "nbconvert_exporter": "python",
   "pygments_lexer": "ipython3",
   "version": "3.10.9"
  }
 },
 "nbformat": 4,
 "nbformat_minor": 1
}
